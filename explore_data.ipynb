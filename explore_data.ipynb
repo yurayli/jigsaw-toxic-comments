{
 "cells": [
  {
   "cell_type": "code",
   "execution_count": 1,
   "metadata": {},
   "outputs": [
    {
     "name": "stderr",
     "output_type": "stream",
     "text": [
      "/Library/Frameworks/Python.framework/Versions/2.7/lib/python2.7/site-packages/matplotlib/font_manager.py:273: UserWarning: Matplotlib is building the font cache using fc-list. This may take a moment.\n",
      "  warnings.warn('Matplotlib is building the font cache using fc-list. This may take a moment.')\n",
      "Using TensorFlow backend.\n"
     ]
    }
   ],
   "source": [
    "# load libraries\n",
    "%matplotlib inline\n",
    "from utils import *\n",
    "import nltk\n",
    "from nltk.corpus import stopwords\n",
    "from time import time"
   ]
  },
  {
   "cell_type": "code",
   "execution_count": 2,
   "metadata": {},
   "outputs": [],
   "source": [
    "train = pd.read_csv('train.csv')\n",
    "test = pd.read_csv('test.csv')"
   ]
  },
  {
   "cell_type": "code",
   "execution_count": 3,
   "metadata": {},
   "outputs": [
    {
     "data": {
      "text/plain": [
       "((159571, 8), (153164, 2))"
      ]
     },
     "execution_count": 3,
     "metadata": {},
     "output_type": "execute_result"
    }
   ],
   "source": [
    "train.shape, test.shape"
   ]
  },
  {
   "cell_type": "code",
   "execution_count": 4,
   "metadata": {},
   "outputs": [
    {
     "name": "stdout",
     "output_type": "stream",
     "text": [
      "<class 'pandas.core.frame.DataFrame'>\n",
      "RangeIndex: 159571 entries, 0 to 159570\n",
      "Data columns (total 8 columns):\n",
      "id               159571 non-null object\n",
      "comment_text     159571 non-null object\n",
      "toxic            159571 non-null int64\n",
      "severe_toxic     159571 non-null int64\n",
      "obscene          159571 non-null int64\n",
      "threat           159571 non-null int64\n",
      "insult           159571 non-null int64\n",
      "identity_hate    159571 non-null int64\n",
      "dtypes: int64(6), object(2)\n",
      "memory usage: 9.7+ MB\n"
     ]
    }
   ],
   "source": [
    "train.info()"
   ]
  },
  {
   "cell_type": "code",
   "execution_count": 5,
   "metadata": {},
   "outputs": [
    {
     "data": {
      "text/html": [
       "<div>\n",
       "<table border=\"1\" class=\"dataframe\">\n",
       "  <thead>\n",
       "    <tr style=\"text-align: right;\">\n",
       "      <th></th>\n",
       "      <th>toxic</th>\n",
       "      <th>severe_toxic</th>\n",
       "      <th>obscene</th>\n",
       "      <th>threat</th>\n",
       "      <th>insult</th>\n",
       "      <th>identity_hate</th>\n",
       "    </tr>\n",
       "  </thead>\n",
       "  <tbody>\n",
       "    <tr>\n",
       "      <th>count</th>\n",
       "      <td>159571.000000</td>\n",
       "      <td>159571.000000</td>\n",
       "      <td>159571.000000</td>\n",
       "      <td>159571.000000</td>\n",
       "      <td>159571.000000</td>\n",
       "      <td>159571.000000</td>\n",
       "    </tr>\n",
       "    <tr>\n",
       "      <th>mean</th>\n",
       "      <td>0.095844</td>\n",
       "      <td>0.009996</td>\n",
       "      <td>0.052948</td>\n",
       "      <td>0.002996</td>\n",
       "      <td>0.049364</td>\n",
       "      <td>0.008805</td>\n",
       "    </tr>\n",
       "    <tr>\n",
       "      <th>std</th>\n",
       "      <td>0.294379</td>\n",
       "      <td>0.099477</td>\n",
       "      <td>0.223931</td>\n",
       "      <td>0.054650</td>\n",
       "      <td>0.216627</td>\n",
       "      <td>0.093420</td>\n",
       "    </tr>\n",
       "    <tr>\n",
       "      <th>min</th>\n",
       "      <td>0.000000</td>\n",
       "      <td>0.000000</td>\n",
       "      <td>0.000000</td>\n",
       "      <td>0.000000</td>\n",
       "      <td>0.000000</td>\n",
       "      <td>0.000000</td>\n",
       "    </tr>\n",
       "    <tr>\n",
       "      <th>25%</th>\n",
       "      <td>0.000000</td>\n",
       "      <td>0.000000</td>\n",
       "      <td>0.000000</td>\n",
       "      <td>0.000000</td>\n",
       "      <td>0.000000</td>\n",
       "      <td>0.000000</td>\n",
       "    </tr>\n",
       "    <tr>\n",
       "      <th>50%</th>\n",
       "      <td>0.000000</td>\n",
       "      <td>0.000000</td>\n",
       "      <td>0.000000</td>\n",
       "      <td>0.000000</td>\n",
       "      <td>0.000000</td>\n",
       "      <td>0.000000</td>\n",
       "    </tr>\n",
       "    <tr>\n",
       "      <th>75%</th>\n",
       "      <td>0.000000</td>\n",
       "      <td>0.000000</td>\n",
       "      <td>0.000000</td>\n",
       "      <td>0.000000</td>\n",
       "      <td>0.000000</td>\n",
       "      <td>0.000000</td>\n",
       "    </tr>\n",
       "    <tr>\n",
       "      <th>max</th>\n",
       "      <td>1.000000</td>\n",
       "      <td>1.000000</td>\n",
       "      <td>1.000000</td>\n",
       "      <td>1.000000</td>\n",
       "      <td>1.000000</td>\n",
       "      <td>1.000000</td>\n",
       "    </tr>\n",
       "  </tbody>\n",
       "</table>\n",
       "</div>"
      ],
      "text/plain": [
       "               toxic   severe_toxic        obscene         threat  \\\n",
       "count  159571.000000  159571.000000  159571.000000  159571.000000   \n",
       "mean        0.095844       0.009996       0.052948       0.002996   \n",
       "std         0.294379       0.099477       0.223931       0.054650   \n",
       "min         0.000000       0.000000       0.000000       0.000000   \n",
       "25%         0.000000       0.000000       0.000000       0.000000   \n",
       "50%         0.000000       0.000000       0.000000       0.000000   \n",
       "75%         0.000000       0.000000       0.000000       0.000000   \n",
       "max         1.000000       1.000000       1.000000       1.000000   \n",
       "\n",
       "              insult  identity_hate  \n",
       "count  159571.000000  159571.000000  \n",
       "mean        0.049364       0.008805  \n",
       "std         0.216627       0.093420  \n",
       "min         0.000000       0.000000  \n",
       "25%         0.000000       0.000000  \n",
       "50%         0.000000       0.000000  \n",
       "75%         0.000000       0.000000  \n",
       "max         1.000000       1.000000  "
      ]
     },
     "execution_count": 5,
     "metadata": {},
     "output_type": "execute_result"
    }
   ],
   "source": [
    "train.describe()"
   ]
  },
  {
   "cell_type": "code",
   "execution_count": 6,
   "metadata": {},
   "outputs": [
    {
     "data": {
      "text/html": [
       "<div>\n",
       "<table border=\"1\" class=\"dataframe\">\n",
       "  <thead>\n",
       "    <tr style=\"text-align: right;\">\n",
       "      <th></th>\n",
       "      <th>id</th>\n",
       "      <th>comment_text</th>\n",
       "      <th>toxic</th>\n",
       "      <th>severe_toxic</th>\n",
       "      <th>obscene</th>\n",
       "      <th>threat</th>\n",
       "      <th>insult</th>\n",
       "      <th>identity_hate</th>\n",
       "    </tr>\n",
       "  </thead>\n",
       "  <tbody>\n",
       "    <tr>\n",
       "      <th>0</th>\n",
       "      <td>0000997932d777bf</td>\n",
       "      <td>Explanation\\nWhy the edits made under my usern...</td>\n",
       "      <td>0</td>\n",
       "      <td>0</td>\n",
       "      <td>0</td>\n",
       "      <td>0</td>\n",
       "      <td>0</td>\n",
       "      <td>0</td>\n",
       "    </tr>\n",
       "    <tr>\n",
       "      <th>1</th>\n",
       "      <td>000103f0d9cfb60f</td>\n",
       "      <td>D'aww! He matches this background colour I'm s...</td>\n",
       "      <td>0</td>\n",
       "      <td>0</td>\n",
       "      <td>0</td>\n",
       "      <td>0</td>\n",
       "      <td>0</td>\n",
       "      <td>0</td>\n",
       "    </tr>\n",
       "    <tr>\n",
       "      <th>2</th>\n",
       "      <td>000113f07ec002fd</td>\n",
       "      <td>Hey man, I'm really not trying to edit war. It...</td>\n",
       "      <td>0</td>\n",
       "      <td>0</td>\n",
       "      <td>0</td>\n",
       "      <td>0</td>\n",
       "      <td>0</td>\n",
       "      <td>0</td>\n",
       "    </tr>\n",
       "    <tr>\n",
       "      <th>3</th>\n",
       "      <td>0001b41b1c6bb37e</td>\n",
       "      <td>\"\\nMore\\nI can't make any real suggestions on ...</td>\n",
       "      <td>0</td>\n",
       "      <td>0</td>\n",
       "      <td>0</td>\n",
       "      <td>0</td>\n",
       "      <td>0</td>\n",
       "      <td>0</td>\n",
       "    </tr>\n",
       "  </tbody>\n",
       "</table>\n",
       "</div>"
      ],
      "text/plain": [
       "                 id                                       comment_text  toxic  \\\n",
       "0  0000997932d777bf  Explanation\\nWhy the edits made under my usern...      0   \n",
       "1  000103f0d9cfb60f  D'aww! He matches this background colour I'm s...      0   \n",
       "2  000113f07ec002fd  Hey man, I'm really not trying to edit war. It...      0   \n",
       "3  0001b41b1c6bb37e  \"\\nMore\\nI can't make any real suggestions on ...      0   \n",
       "\n",
       "   severe_toxic  obscene  threat  insult  identity_hate  \n",
       "0             0        0       0       0              0  \n",
       "1             0        0       0       0              0  \n",
       "2             0        0       0       0              0  \n",
       "3             0        0       0       0              0  "
      ]
     },
     "execution_count": 6,
     "metadata": {},
     "output_type": "execute_result"
    }
   ],
   "source": [
    "train[:4]"
   ]
  },
  {
   "cell_type": "code",
   "execution_count": 8,
   "metadata": {},
   "outputs": [
    {
     "data": {
      "text/plain": [
       "0.10167887648758234"
      ]
     },
     "execution_count": 8,
     "metadata": {},
     "output_type": "execute_result"
    }
   ],
   "source": [
    "# about ~10% of comments are negative\n",
    "label_cols = ['toxic', 'severe_toxic', 'obscene', 'threat', 'insult', 'identity_hate']\n",
    "train[label_cols].max(axis=1).mean()"
   ]
  },
  {
   "cell_type": "code",
   "execution_count": 12,
   "metadata": {},
   "outputs": [],
   "source": [
    "# Text cleaning helper function\n",
    "def clean_text(raw):  return re.sub(r'[^\\w\\s\\']+', '', raw.strip()).lower().split()"
   ]
  },
  {
   "cell_type": "code",
   "execution_count": 13,
   "metadata": {},
   "outputs": [
    {
     "name": "stdout",
     "output_type": "stream",
     "text": [
      "Cleaning the comment texts...\n",
      "Elapsed time 13.90 seconds for cleaning\n",
      "\n"
     ]
    }
   ],
   "source": [
    "print \"Cleaning the comment texts...\"\n",
    "t0 = time()\n",
    "train_cln = train['comment_text'].apply(clean_text)\n",
    "test_cln = test['comment_text'].apply(clean_text)\n",
    "print \"Elapsed time %.2f seconds for cleaning\\n\" % (time()-t0)"
   ]
  },
  {
   "cell_type": "code",
   "execution_count": 21,
   "metadata": {},
   "outputs": [],
   "source": [
    "nb_rev_trn, seq_len_trn = range(len(train_cln)), train_cln.apply(len)\n",
    "nb_rev_tt, seq_len_tt = range(len(test_cln)), test_cln.apply(len)"
   ]
  },
  {
   "cell_type": "code",
   "execution_count": 22,
   "metadata": {},
   "outputs": [
    {
     "data": {
      "text/plain": [
       "count    159571.000000\n",
       "mean         66.145076\n",
       "std          98.280503\n",
       "min           1.000000\n",
       "25%          16.000000\n",
       "50%          35.000000\n",
       "75%          74.000000\n",
       "max        1403.000000\n",
       "Name: comment_text, dtype: float64"
      ]
     },
     "execution_count": 22,
     "metadata": {},
     "output_type": "execute_result"
    }
   ],
   "source": [
    "seq_len_trn.describe()"
   ]
  },
  {
   "cell_type": "code",
   "execution_count": 23,
   "metadata": {},
   "outputs": [
    {
     "data": {
      "image/png": "[encoded data removed]",
      "text/plain": [
       "<matplotlib.figure.Figure at 0x16be01d90>"
      ]
     },
     "metadata": {},
     "output_type": "display_data"
    }
   ],
   "source": [
    "plt.style.use('ggplot')\n",
    "seq_len_trn.plot.density(color='blue')\n",
    "plt.xlim(0, 1000)\n",
    "plt.xlabel('Number of words per sequence')\n",
    "plt.ylabel('Distribution (a.u.)')\n",
    "plt.show()"
   ]
  },
  {
   "cell_type": "code",
   "execution_count": 24,
   "metadata": {},
   "outputs": [
    {
     "data": {
      "image/png": "[encoded data removed]",
      "text/plain": [
       "<matplotlib.figure.Figure at 0x1700028d0>"
      ]
     },
     "metadata": {},
     "output_type": "display_data"
    }
   ],
   "source": [
    "# see the lengths of sequence in a range\n",
    "plt.figure(figsize=(16,4))\n",
    "plt.plot(nb_rev_trn[:500], seq_len_trn[:500])\n",
    "plt.xlim(0, 500)\n",
    "plt.xlabel('Samples')\n",
    "plt.ylabel('Number of words per sequence')\n",
    "plt.show()"
   ]
  },
  {
   "cell_type": "code",
   "execution_count": 25,
   "metadata": {},
   "outputs": [
    {
     "data": {
      "text/plain": [
       "count    153164.000000\n",
       "mean         59.092274\n",
       "std          95.856773\n",
       "min           0.000000\n",
       "25%          12.000000\n",
       "50%          29.000000\n",
       "75%          65.000000\n",
       "max        2142.000000\n",
       "Name: comment_text, dtype: float64"
      ]
     },
     "execution_count": 25,
     "metadata": {},
     "output_type": "execute_result"
    }
   ],
   "source": [
    "seq_len_tt.describe()"
   ]
  },
  {
   "cell_type": "code",
   "execution_count": 26,
   "metadata": {},
   "outputs": [
    {
     "data": {
      "image/png": "[encoded data removed]",
      "text/plain": [
       "<matplotlib.figure.Figure at 0x12cfb8710>"
      ]
     },
     "metadata": {},
     "output_type": "display_data"
    }
   ],
   "source": [
    "plt.style.use('ggplot')\n",
    "seq_len_tt.plot.density(color='blue')\n",
    "plt.xlim(0, 1000)\n",
    "plt.xlabel('Number of words per sequence')\n",
    "plt.ylabel('Distribution (a.u.)')\n",
    "plt.show()"
   ]
  },
  {
   "cell_type": "markdown",
   "metadata": {},
   "source": [
    "Observe comment texts cleaned to nearly no word"
   ]
  },
  {
   "cell_type": "code",
   "execution_count": 26,
   "metadata": {
    "scrolled": true
   },
   "outputs": [
    {
     "data": {
      "text/plain": [
       "array([  2629,   5670,   5899,   6746,  17311,  19815,  22099,  39247,  41648,  52442,  52475,\n",
       "        53787,  55751,  61758,  63104,  64904,  68938,  76037,  79405,  83854,  93586,  96479,\n",
       "        98792, 105657, 106891, 109944, 109985, 110293, 111438, 117663, 119602, 119713, 127744,\n",
       "       128445, 130194, 137062, 137940, 141293, 153269, 153616, 154845])"
      ]
     },
     "execution_count": 26,
     "metadata": {},
     "output_type": "execute_result"
    }
   ],
   "source": [
    "np.array(list(train_cln[train_cln.apply(len)==1].index))"
   ]
  },
  {
   "cell_type": "code",
   "execution_count": 27,
   "metadata": {},
   "outputs": [
    {
     "name": "stdout",
     "output_type": "stream",
     "text": [
      "\"::Thanks.   (Μελ Ετητης) \n",
      "\n",
      "\"\n"
     ]
    }
   ],
   "source": [
    "print train['comment_text'].loc[2629]"
   ]
  },
  {
   "cell_type": "code",
   "execution_count": 29,
   "metadata": {},
   "outputs": [
    {
     "name": "stdout",
     "output_type": "stream",
     "text": [
      "\"\n",
      "\n",
      " 199.209.144.211  \"\n"
     ]
    }
   ],
   "source": [
    "print train['comment_text'].loc[61758]"
   ]
  },
  {
   "cell_type": "code",
   "execution_count": 51,
   "metadata": {},
   "outputs": [
    {
     "name": "stdout",
     "output_type": "stream",
     "text": [
      "User:Wipeouting\n"
     ]
    }
   ],
   "source": [
    "print train['comment_text'].loc[127744]"
   ]
  },
  {
   "cell_type": "code",
   "execution_count": 20,
   "metadata": {
    "scrolled": true
   },
   "outputs": [
    {
     "data": {
      "text/plain": [
       "array([    34,    114,    119,    419,    506,    578,    582,    674,    819,   1278,   1355,\n",
       "         1628,   1692,   1711,   1762,   1804,   1834,   2424,   2628,   2775,   2887,   2913,\n",
       "         3404,   3809,   3891,   3964,   4321,   4527,   4674,   4856,   5565,   5569,   6171,\n",
       "         6275,   6647,   6660,   6817,   6901,   6944,   7071,   7322,   7494,   7495,   7549,\n",
       "         7711,   7872,   8312,   8523,   8634,   8655,   9045,  10067,  10353,  10574,  10644,\n",
       "        10783,  10912,  10948,  10988,  11068,  11342,  11470,  11873,  12314,  12399,  12701,\n",
       "        12728,  12877,  12946,  12995,  13243,  13387,  13412,  13947,  14373,  14721,  14999,\n",
       "        15132,  15179,  15232,  15340,  15417,  15786,  15889,  15890,  16060,  16105,  16354,\n",
       "        16375,  16439,  16903,  17489,  17539,  17590,  17788,  18086,  18122,  18371,  18377,\n",
       "        18482,  18721,  18756,  18775,  18868,  19378,  19487,  19747,  20206,  20524,  21102,\n",
       "        21796,  22278,  22542,  22547,  23070,  23261,  23632,  23733,  23742,  23772,  23784,\n",
       "        24441,  24622,  25032,  25050,  25748,  25827,  26352,  26541,  26582,  26629,  27478,\n",
       "        27903,  28067,  28228,  28247,  28660,  28834,  29005,  29307,  29397,  29570,  29636,\n",
       "        29935,  29942,  30071,  30296,  30353,  30592,  30604,  30851,  31038,  31091,  31461,\n",
       "        31649,  31763,  31823,  31965,  31990,  32082,  32296,  32374,  32488,  32519,  32708,\n",
       "        32731,  32962,  32982,  33301,  33303,  33499,  34173,  34304,  34424,  34690,  34765,\n",
       "        34811,  34815,  34890,  35269,  35361,  35806,  36650,  36899,  36918,  37238,  37495,\n",
       "        37583,  38050,  38063,  38314,  38648,  38753,  38804,  39152,  39203,  39282,  39572,\n",
       "        39760,  39950,  40008,  40033,  40177,  40280,  40334,  40606,  41314,  41459,  41608,\n",
       "        41629,  42220,  42235,  42396,  42445,  42566,  42644,  42816,  42914,  43035,  43097,\n",
       "        43376,  43403,  43773,  43812,  43872,  43910,  44159,  44213,  44445,  44673,  44677,\n",
       "        45000,  45247,  45442,  45547,  45553,  45734,  45990,  46267,  46369,  46508,  46685,\n",
       "        46925,  47000,  47186,  47201,  47325,  47540,  47639,  47708,  47903,  47909,  48080,\n",
       "        48520,  48597,  48973,  48999,  49212,  49553,  49634,  49966,  50747,  50864,  51131,\n",
       "        51983,  52206,  52246,  52408,  52426,  52973,  53838,  53927,  53946,  54048,  54278,\n",
       "        54566,  54619,  54849,  55142,  55320,  55331,  55424,  55552,  55611,  55852,  56271,\n",
       "        56321,  56586,  56627,  56681,  56726,  57300,  57462,  57590,  58178,  58376,  58492,\n",
       "        58712,  58923,  58926,  58941,  59458,  59661,  59772,  59884,  60312,  60657,  60781,\n",
       "        61068,  61363,  61516,  61557,  61690,  61781,  61805,  61995,  62010,  62031,  62155,\n",
       "        62424,  62539,  62941,  62961,  63586,  63733,  63745,  63926,  63946,  64283,  64488,\n",
       "        64711,  64835,  64838,  64901,  65082,  65198,  65491,  65509,  65529,  65969,  66057,\n",
       "        66261,  66287,  66613,  66894,  67120,  67584,  67651,  67731,  68355,  68490,  68667,\n",
       "        68703,  69459,  69496,  69868,  70234,  70300,  70552,  70650,  70735,  71173,  71289,\n",
       "        71320,  71441,  71490,  71586,  71671,  71785,  72283,  72314,  72378,  72841,  72940,\n",
       "        73225,  73738,  73767,  74006,  74244,  74575,  74981,  74984,  75095,  75457,  75525,\n",
       "        75593,  75820,  75921,  75937,  76010,  76030,  76121,  76457,  76676,  76760,  76892,\n",
       "        76951,  77703,  77824,  77863,  78063,  78076,  78661,  78709,  78752,  78820,  79046,\n",
       "        79193,  79287,  79314,  79730,  79741,  79807,  79988,  80026,  80259,  80320,  80619,\n",
       "        80895,  81138,  81142,  81859,  81942,  82030,  82035,  82100,  82184,  82259,  82402,\n",
       "        82423,  82645,  82776,  82823,  82830,  83255,  83779,  83944,  83948,  83957,  83961,\n",
       "        83991,  84061,  84368,  84611,  84778,  85135,  85166,  85201,  85250,  85304,  85413,\n",
       "        85732,  86277,  86780,  86884,  86921,  87086,  87237,  87241,  87261,  87415,  87739,\n",
       "        87751,  87862,  88069,  88431,  88477,  89255,  89293,  89346,  89427,  89604,  90149,\n",
       "        90312,  90656,  90848,  91087,  91534,  91903,  92119,  92387,  92558,  92560,  92637,\n",
       "        92690,  92991,  93217,  93407,  93450,  93473,  93650,  93785,  93826,  94163,  94329,\n",
       "        94567,  95832,  95979,  96275,  96373,  96902,  96907,  97430,  97695,  97758,  97816,\n",
       "        97833,  98018,  98123,  98127,  98150,  98166,  98581,  98809,  98934,  99303,  99531,\n",
       "        99550,  99627,  99783,  99813, 100123, 100301, 100437, 101336, 101456, 101758, 101788,\n",
       "       101916, 102210, 102528, 102799, 102953, 103117, 103275, 104076, 104414, 104521, 104723,\n",
       "       104819, 104910, 105295, 105452, 105504, 105570, 105642, 105719, 105804, 105805, 106011,\n",
       "       106111, 106483, 106503, 107061, 107346, 107435, 107816, 108128, 108184, 108211, 108294,\n",
       "       108334, 108643, 108702, 109104, 109380, 109671, 110072, 110166, 110297, 110298, 110567,\n",
       "       110670, 110686, 111195, 111216, 111231, 111397, 111495, 111582, 112269, 113120, 113582,\n",
       "       113702, 113864, 114477, 114543, 114565, 114741, 115761, 115874, 116374, 116445, 116490,\n",
       "       116580, 116593, 116744, 117023, 117463, 117540, 117544, 117905, 118018, 118232, 118249,\n",
       "       118685, 118775, 118947, 119336, 119436, 119552, 119595, 119725, 119752, 119754, 119951,\n",
       "       120023, 120458, 120611, 120910, 121102, 121125, 121144, 121358, 121469, 121526, 121573,\n",
       "       121587, 121588, 121817, 122122, 122425, 122519, 122554, 122557, 122559, 122644, 122915,\n",
       "       122975, 123024, 123050, 123153, 123156, 123547, 123582, 123836, 123846, 123964, 124076,\n",
       "       124515, 124591, 124742, 124966, 125122, 125170, 125937, 126164, 126248, 126269, 126416,\n",
       "       126444, 126451, 126983, 127114, 127727, 127815, 128412, 128471, 129117, 129363, 129432,\n",
       "       129690, 130130, 130253, 130293, 130461, 130752, 130894, 131862, 132000, 132135, 132284,\n",
       "       132567, 132617, 132925, 133569, 133860, 134199, 134325, 134445, 134621, 135081, 135401,\n",
       "       135485, 135716, 135821, 135941, 136092, 136107, 136149, 136237, 136709, 136739, 136858,\n",
       "       136863, 137002, 137039, 137217, 137326, 137629, 137716, 137721, 137777, 137811, 137856,\n",
       "       138160, 138171, 138273, 138291, 138323, 138590, 138649, 138782, 138948, 139226, 139250,\n",
       "       139439, 140028, 140443, 140758, 141174, 141283, 141799, 142047, 142674, 142834, 142855,\n",
       "       142945, 143360, 143392, 143496, 143938, 144383, 144949, 145079, 145303, 145485, 145521,\n",
       "       145551, 146044, 146546, 147102, 147123, 147143, 147202, 147478, 147787, 147907, 148003,\n",
       "       148443, 148600, 148929, 148949, 149137, 149266, 149413, 149610, 149948, 149997, 150302,\n",
       "       150449, 150479, 150637, 151008, 151458, 151569, 151576, 151796, 151986, 152033, 152204,\n",
       "       152328, 152514, 152562, 152705, 152819, 152934])"
      ]
     },
     "execution_count": 20,
     "metadata": {},
     "output_type": "execute_result"
    }
   ],
   "source": [
    "np.array(list(test_cln[test_cln.apply(len)==0].index))"
   ]
  },
  {
   "cell_type": "code",
   "execution_count": 25,
   "metadata": {
    "scrolled": true
   },
   "outputs": [
    {
     "data": {
      "text/plain": [
       "(787,)"
      ]
     },
     "execution_count": 25,
     "metadata": {},
     "output_type": "execute_result"
    }
   ],
   "source": [
    "np.array(list(test_cln[test_cln.apply(len)==0].index)).shape"
   ]
  },
  {
   "cell_type": "code",
   "execution_count": 21,
   "metadata": {},
   "outputs": [
    {
     "name": "stdout",
     "output_type": "stream",
     "text": [
      "일이삼사오육칠팔구하고십이요 에헤헤 으헤 으헤 으허허\n"
     ]
    }
   ],
   "source": [
    "print test['comment_text'].loc[34]"
   ]
  },
  {
   "cell_type": "code",
   "execution_count": 22,
   "metadata": {},
   "outputs": [
    {
     "name": "stdout",
     "output_type": "stream",
     "text": [
      "পরিচয়   \n",
      "\n",
      " নাম-মোঃফরহাদ ইসলাম \n",
      " পিতা-মোঃ শাহজাহান মিয়া \n",
      " মাতা-মোছাঃফাহিমা বেগম \n",
      " গ্রামঃ জানকিপুর সলই মন্ডল পাড়া \n",
      " ইউনিয়নঃনিলাখিয়া \n",
      " উপজেলাঃবকশীগঞ্জ \n",
      " জেলাঃজামালপুর  \n",
      " বিভাগঃঢাকা \n",
      "\n",
      "  \n",
      "     ।।।।।।।।।।।।।।। \n",
      "\n",
      "  \n",
      "\n",
      " আমি ১৯৯৭ সালের ২০.জানুয়ারি আমার নানার বাড়িতে জন্মগ্রহণ করি। ২০০০ সালে নিজ গ্রামের স্কুলে ভর্তি হয় এবং ওই স্কুল থেকেই প্রাইমারি লেবেল শেষ করি।২০০৬ সালে ভর্তি নিজ ইউনিয়নের নিলাখিয়া আর জে পাইলট উচ্চ বিদ্যালয়ে ৬ষ্ঠ শ্রেনীতে এবং সেখানে ক্লাস এইট পর্যন্ত পড়ি।। পরে ভর্তি হই বকশীগঞ্জ টি.ভি.আই  এ সেখান থেকে ২০১২ সালে এস এস সি পাশ করি।তার পর টেক্সটাইল এ ডিপ্লোমা করার জন্য ভর্তি হলাম শহীদ আব্দুর রব সেরনিয়াবাত টেক্সটাইল ইঞ্জিনিয়ারিং কলেজ,বরিশাল। বর্তমানে আমি এই কলেজে ৬ষ্ঠ সেমিস্টার এর এক জন ছাত্র।।\n"
     ]
    }
   ],
   "source": [
    "print test['comment_text'].loc[114]"
   ]
  },
  {
   "cell_type": "code",
   "execution_count": 23,
   "metadata": {},
   "outputs": [
    {
     "name": "stdout",
     "output_type": "stream",
     "text": [
      "تیری ماں کی چوت \n",
      "   تیری ماں کی چوت \n",
      "   تیری ماں کی چوت  تیری ماں کی چوت \n",
      "   تیری ماں کی چوت \n",
      "   تیری ماں کی چوت  تیری ماں کی چوت  تیری ماں کی چوت  تیری ماں کی چوت  تیری ماں کی چوت  تیری ماں کی چوت  تیری ماں کی چوت \n",
      "   تیری ماں کی چوت  تیری ماں کی چوت  تیری ماں کی چوت \n",
      "   تیری ماں کی چوت \n",
      "   تیری ماں کی چوت  تیری ماں کی چوت  تیری ماں کی چوت\n"
     ]
    }
   ],
   "source": [
    "print test['comment_text'].loc[1762]"
   ]
  },
  {
   "cell_type": "code",
   "execution_count": 24,
   "metadata": {},
   "outputs": [
    {
     "name": "stdout",
     "output_type": "stream",
     "text": [
      "རང་གི་རིག་གནས་ཆུ་ཚད་ཡག་པོ་མེད་ཀྱང་། དྲ་རྒྱའི་རིག་གནས་འདི་ང་ཚོར་དགོས་གལ་ཆེ་བས། ང་ཝེ་ཁེ་བ་ཞིག་བྱེད་པར་སྤྲོ་བོ་ཡོད། ཡིན་ཡང་། གཅིག་ནས་ལག་གསར་ཡིན་པ་དང་། གཉིས་ནས་ཁྱེད་རང་གིས་བྱིན་པའི་ཡིག་ཆ་ཚང་མ་དབྱིན་ཇི་ཡིན་པས་བདག་གིས་ཧ་གོ་ཡི་མི་འདུག དེ་བས་ཤོག་ངོས་ཡག་པོ་བཟོ་ཤེས་མི་འདུག དཀའ་ངལ་ཆེན་པོ་འདུག སྐུ་དྲིན་ཆེ།\n"
     ]
    }
   ],
   "source": [
    "print test['comment_text'].loc[10988]"
   ]
  },
  {
   "cell_type": "markdown",
   "metadata": {},
   "source": [
    "Observe volume of vocabulary in the corpus"
   ]
  },
  {
   "cell_type": "code",
   "execution_count": 15,
   "metadata": {},
   "outputs": [
    {
     "data": {
      "text/plain": [
       "260322"
      ]
     },
     "execution_count": 15,
     "metadata": {},
     "output_type": "execute_result"
    }
   ],
   "source": [
    "# number of words in cleaned train set\n",
    "word_freq = nltk.FreqDist(itertools.chain(*train_cln))\n",
    "len(word_freq)"
   ]
  },
  {
   "cell_type": "code",
   "execution_count": 16,
   "metadata": {},
   "outputs": [
    {
     "data": {
      "text/plain": [
       "444185"
      ]
     },
     "execution_count": 16,
     "metadata": {},
     "output_type": "execute_result"
    }
   ],
   "source": [
    "# test set included\n",
    "word_freq = nltk.FreqDist(itertools.chain(\n",
    "    *pd.concat([train_cln, test_cln], ignore_index=True) ))\n",
    "len(word_freq)"
   ]
  },
  {
   "cell_type": "code",
   "execution_count": 17,
   "metadata": {},
   "outputs": [],
   "source": [
    "# Tokenize the review sentences as input; 'UNK' means the words not included\n",
    "vocab_size = 20000\n",
    "vocab_freq = word_freq.most_common(vocab_size-1)\n",
    "idx_to_word = ['PAD'] + [w[0] for w in vocab_freq] + ['UNK']\n",
    "word_to_idx = {w: i for i, w in enumerate(idx_to_word)}"
   ]
  },
  {
   "cell_type": "code",
   "execution_count": 18,
   "metadata": {},
   "outputs": [
    {
     "data": {
      "text/plain": [
       "['PAD', 'the', 'to', 'of', 'and', 'a', 'you', 'i', 'is', 'that']"
      ]
     },
     "execution_count": 18,
     "metadata": {},
     "output_type": "execute_result"
    }
   ],
   "source": [
    "idx_to_word[:10]"
   ]
  },
  {
   "cell_type": "code",
   "execution_count": 19,
   "metadata": {},
   "outputs": [
    {
     "data": {
      "text/plain": [
       "[\"singer's\",\n",
       " 'vapor',\n",
       " 'unremarkable',\n",
       " 'keynesian',\n",
       " 'raul654',\n",
       " 'herhis',\n",
       " 'hypocrit',\n",
       " 'tanakh',\n",
       " 'indianapolis',\n",
       " 'UNK']"
      ]
     },
     "execution_count": 19,
     "metadata": {},
     "output_type": "execute_result"
    }
   ],
   "source": [
    "idx_to_word[-10:]"
   ]
  },
  {
   "cell_type": "code",
   "execution_count": 20,
   "metadata": {},
   "outputs": [
    {
     "data": {
      "text/plain": [
       "(29, 29, 29)"
      ]
     },
     "execution_count": 20,
     "metadata": {},
     "output_type": "execute_result"
    }
   ],
   "source": [
    "word_freq['singer\\'s'], word_freq['herhis'], word_freq['indianapolis']"
   ]
  },
  {
   "cell_type": "markdown",
   "metadata": {},
   "source": [
    "Observe some comment texts"
   ]
  },
  {
   "cell_type": "code",
   "execution_count": 37,
   "metadata": {},
   "outputs": [
    {
     "data": {
      "text/html": [
       "<div>\n",
       "<table border=\"1\" class=\"dataframe\">\n",
       "  <thead>\n",
       "    <tr style=\"text-align: right;\">\n",
       "      <th></th>\n",
       "      <th>id</th>\n",
       "      <th>comment_text</th>\n",
       "      <th>toxic</th>\n",
       "      <th>severe_toxic</th>\n",
       "      <th>obscene</th>\n",
       "      <th>threat</th>\n",
       "      <th>insult</th>\n",
       "      <th>identity_hate</th>\n",
       "    </tr>\n",
       "  </thead>\n",
       "  <tbody>\n",
       "    <tr>\n",
       "      <th>6</th>\n",
       "      <td>0002bcb3da6cb337</td>\n",
       "      <td>COCKSUCKER BEFORE YOU PISS AROUND ON MY WORK</td>\n",
       "      <td>1</td>\n",
       "      <td>1</td>\n",
       "      <td>1</td>\n",
       "      <td>0</td>\n",
       "      <td>1</td>\n",
       "      <td>0</td>\n",
       "    </tr>\n",
       "    <tr>\n",
       "      <th>42</th>\n",
       "      <td>001810bf8c45bf5f</td>\n",
       "      <td>You are gay or antisemmitian? \\n\\nArchangel WH...</td>\n",
       "      <td>1</td>\n",
       "      <td>0</td>\n",
       "      <td>1</td>\n",
       "      <td>0</td>\n",
       "      <td>1</td>\n",
       "      <td>1</td>\n",
       "    </tr>\n",
       "    <tr>\n",
       "      <th>43</th>\n",
       "      <td>00190820581d90ce</td>\n",
       "      <td>FUCK YOUR FILTHY MOTHER IN THE ASS, DRY!</td>\n",
       "      <td>1</td>\n",
       "      <td>0</td>\n",
       "      <td>1</td>\n",
       "      <td>0</td>\n",
       "      <td>1</td>\n",
       "      <td>0</td>\n",
       "    </tr>\n",
       "    <tr>\n",
       "      <th>51</th>\n",
       "      <td>001dc38a83d420cf</td>\n",
       "      <td>GET FUCKED UP. GET FUCKEEED UP.  GOT A DRINK T...</td>\n",
       "      <td>1</td>\n",
       "      <td>0</td>\n",
       "      <td>1</td>\n",
       "      <td>0</td>\n",
       "      <td>0</td>\n",
       "      <td>0</td>\n",
       "    </tr>\n",
       "    <tr>\n",
       "      <th>55</th>\n",
       "      <td>0020e7119b96eeeb</td>\n",
       "      <td>Stupid peace of shit stop deleting my stuff as...</td>\n",
       "      <td>1</td>\n",
       "      <td>1</td>\n",
       "      <td>1</td>\n",
       "      <td>0</td>\n",
       "      <td>1</td>\n",
       "      <td>0</td>\n",
       "    </tr>\n",
       "    <tr>\n",
       "      <th>56</th>\n",
       "      <td>0020fd96ed3b8c8b</td>\n",
       "      <td>=Tony Sidaway is obviously a fistfuckee. He lo...</td>\n",
       "      <td>1</td>\n",
       "      <td>0</td>\n",
       "      <td>1</td>\n",
       "      <td>0</td>\n",
       "      <td>1</td>\n",
       "      <td>0</td>\n",
       "    </tr>\n",
       "    <tr>\n",
       "      <th>58</th>\n",
       "      <td>0021fe88bc4da3e6</td>\n",
       "      <td>My Band Page's deletion. You thought I was gon...</td>\n",
       "      <td>1</td>\n",
       "      <td>0</td>\n",
       "      <td>1</td>\n",
       "      <td>0</td>\n",
       "      <td>0</td>\n",
       "      <td>0</td>\n",
       "    </tr>\n",
       "    <tr>\n",
       "      <th>65</th>\n",
       "      <td>0028d62e8a5629aa</td>\n",
       "      <td>All of my edits are good.  Cunts like you who ...</td>\n",
       "      <td>1</td>\n",
       "      <td>0</td>\n",
       "      <td>1</td>\n",
       "      <td>0</td>\n",
       "      <td>1</td>\n",
       "      <td>0</td>\n",
       "    </tr>\n",
       "    <tr>\n",
       "      <th>79</th>\n",
       "      <td>003217c3eb469ba9</td>\n",
       "      <td>Hi! I am back again!\\nLast warning!\\nStop undo...</td>\n",
       "      <td>1</td>\n",
       "      <td>0</td>\n",
       "      <td>0</td>\n",
       "      <td>1</td>\n",
       "      <td>0</td>\n",
       "      <td>0</td>\n",
       "    </tr>\n",
       "    <tr>\n",
       "      <th>86</th>\n",
       "      <td>0036621e4c7e10b5</td>\n",
       "      <td>Would you both shut up, you don't run wikipedi...</td>\n",
       "      <td>1</td>\n",
       "      <td>0</td>\n",
       "      <td>0</td>\n",
       "      <td>0</td>\n",
       "      <td>1</td>\n",
       "      <td>0</td>\n",
       "    </tr>\n",
       "    <tr>\n",
       "      <th>105</th>\n",
       "      <td>00472b8e2d38d1ea</td>\n",
       "      <td>A pair of jew-hating weiner nazi schmucks.</td>\n",
       "      <td>1</td>\n",
       "      <td>0</td>\n",
       "      <td>1</td>\n",
       "      <td>0</td>\n",
       "      <td>1</td>\n",
       "      <td>1</td>\n",
       "    </tr>\n",
       "    <tr>\n",
       "      <th>168</th>\n",
       "      <td>00686325bcc16080</td>\n",
       "      <td>You should be fired, you're a moronic wimp who...</td>\n",
       "      <td>1</td>\n",
       "      <td>0</td>\n",
       "      <td>0</td>\n",
       "      <td>0</td>\n",
       "      <td>1</td>\n",
       "      <td>0</td>\n",
       "    </tr>\n",
       "    <tr>\n",
       "      <th>176</th>\n",
       "      <td>006b94add72ed61c</td>\n",
       "      <td>I think that your a Fagget get a oife and burn...</td>\n",
       "      <td>1</td>\n",
       "      <td>0</td>\n",
       "      <td>1</td>\n",
       "      <td>1</td>\n",
       "      <td>1</td>\n",
       "      <td>1</td>\n",
       "    </tr>\n",
       "    <tr>\n",
       "      <th>179</th>\n",
       "      <td>006d11791d76b9f3</td>\n",
       "      <td>REPLY ABOVE:\\nThat was me, loser. The UN defin...</td>\n",
       "      <td>0</td>\n",
       "      <td>0</td>\n",
       "      <td>0</td>\n",
       "      <td>0</td>\n",
       "      <td>1</td>\n",
       "      <td>0</td>\n",
       "    </tr>\n",
       "    <tr>\n",
       "      <th>181</th>\n",
       "      <td>006e87872c8b370c</td>\n",
       "      <td>you are a stupid fuck \\n\\nand your mother's cu...</td>\n",
       "      <td>1</td>\n",
       "      <td>1</td>\n",
       "      <td>1</td>\n",
       "      <td>0</td>\n",
       "      <td>1</td>\n",
       "      <td>0</td>\n",
       "    </tr>\n",
       "  </tbody>\n",
       "</table>\n",
       "</div>"
      ],
      "text/plain": [
       "                   id                                       comment_text  \\\n",
       "6    0002bcb3da6cb337       COCKSUCKER BEFORE YOU PISS AROUND ON MY WORK   \n",
       "42   001810bf8c45bf5f  You are gay or antisemmitian? \\n\\nArchangel WH...   \n",
       "43   00190820581d90ce           FUCK YOUR FILTHY MOTHER IN THE ASS, DRY!   \n",
       "51   001dc38a83d420cf  GET FUCKED UP. GET FUCKEEED UP.  GOT A DRINK T...   \n",
       "55   0020e7119b96eeeb  Stupid peace of shit stop deleting my stuff as...   \n",
       "56   0020fd96ed3b8c8b  =Tony Sidaway is obviously a fistfuckee. He lo...   \n",
       "58   0021fe88bc4da3e6  My Band Page's deletion. You thought I was gon...   \n",
       "65   0028d62e8a5629aa  All of my edits are good.  Cunts like you who ...   \n",
       "79   003217c3eb469ba9  Hi! I am back again!\\nLast warning!\\nStop undo...   \n",
       "86   0036621e4c7e10b5  Would you both shut up, you don't run wikipedi...   \n",
       "105  00472b8e2d38d1ea         A pair of jew-hating weiner nazi schmucks.   \n",
       "168  00686325bcc16080  You should be fired, you're a moronic wimp who...   \n",
       "176  006b94add72ed61c  I think that your a Fagget get a oife and burn...   \n",
       "179  006d11791d76b9f3  REPLY ABOVE:\\nThat was me, loser. The UN defin...   \n",
       "181  006e87872c8b370c  you are a stupid fuck \\n\\nand your mother's cu...   \n",
       "\n",
       "     toxic  severe_toxic  obscene  threat  insult  identity_hate  \n",
       "6        1             1        1       0       1              0  \n",
       "42       1             0        1       0       1              1  \n",
       "43       1             0        1       0       1              0  \n",
       "51       1             0        1       0       0              0  \n",
       "55       1             1        1       0       1              0  \n",
       "56       1             0        1       0       1              0  \n",
       "58       1             0        1       0       0              0  \n",
       "65       1             0        1       0       1              0  \n",
       "79       1             0        0       1       0              0  \n",
       "86       1             0        0       0       1              0  \n",
       "105      1             0        1       0       1              1  \n",
       "168      1             0        0       0       1              0  \n",
       "176      1             0        1       1       1              1  \n",
       "179      0             0        0       0       1              0  \n",
       "181      1             1        1       0       1              0  "
      ]
     },
     "execution_count": 37,
     "metadata": {},
     "output_type": "execute_result"
    }
   ],
   "source": [
    "train[(train['obscene']==1)|(train['threat']==1)|(train['insult']==1)|(train['identity_hate']==1)][:15]"
   ]
  },
  {
   "cell_type": "code",
   "execution_count": 38,
   "metadata": {},
   "outputs": [
    {
     "name": "stdout",
     "output_type": "stream",
     "text": [
      "Stupid peace of shit stop deleting my stuff asshole go die and fall in a hole go to hell!\n"
     ]
    }
   ],
   "source": [
    "print train['comment_text'].loc[55]"
   ]
  },
  {
   "cell_type": "code",
   "execution_count": 39,
   "metadata": {},
   "outputs": [
    {
     "data": {
      "text/html": [
       "<div>\n",
       "<table border=\"1\" class=\"dataframe\">\n",
       "  <thead>\n",
       "    <tr style=\"text-align: right;\">\n",
       "      <th></th>\n",
       "      <th>id</th>\n",
       "      <th>comment_text</th>\n",
       "      <th>toxic</th>\n",
       "      <th>severe_toxic</th>\n",
       "      <th>obscene</th>\n",
       "      <th>threat</th>\n",
       "      <th>insult</th>\n",
       "      <th>identity_hate</th>\n",
       "    </tr>\n",
       "  </thead>\n",
       "  <tbody>\n",
       "    <tr>\n",
       "      <th>201</th>\n",
       "      <td>007f1839ada915e6</td>\n",
       "      <td>Your blatant POV pushing \\n\\nNeither of you gu...</td>\n",
       "      <td>1</td>\n",
       "      <td>0</td>\n",
       "      <td>1</td>\n",
       "      <td>0</td>\n",
       "      <td>0</td>\n",
       "      <td>0</td>\n",
       "    </tr>\n",
       "    <tr>\n",
       "      <th>211</th>\n",
       "      <td>0086998b34865f93</td>\n",
       "      <td>Fuck you, block me, you faggot pussy!</td>\n",
       "      <td>1</td>\n",
       "      <td>0</td>\n",
       "      <td>1</td>\n",
       "      <td>0</td>\n",
       "      <td>1</td>\n",
       "      <td>0</td>\n",
       "    </tr>\n",
       "    <tr>\n",
       "      <th>218</th>\n",
       "      <td>008e0818dde894fb</td>\n",
       "      <td>Kill all niggers. \\n\\nI have hard, that others...</td>\n",
       "      <td>1</td>\n",
       "      <td>0</td>\n",
       "      <td>1</td>\n",
       "      <td>0</td>\n",
       "      <td>1</td>\n",
       "      <td>1</td>\n",
       "    </tr>\n",
       "    <tr>\n",
       "      <th>231</th>\n",
       "      <td>009371b0ef213487</td>\n",
       "      <td>Burn Deck \\n\\nIf that'd guy's burn deck is lik...</td>\n",
       "      <td>1</td>\n",
       "      <td>0</td>\n",
       "      <td>1</td>\n",
       "      <td>0</td>\n",
       "      <td>1</td>\n",
       "      <td>0</td>\n",
       "    </tr>\n",
       "    <tr>\n",
       "      <th>238</th>\n",
       "      <td>0097dd5c29bf7a15</td>\n",
       "      <td>u r a tw@ fuck off u gay boy.U r smelly.Fuck u...</td>\n",
       "      <td>1</td>\n",
       "      <td>0</td>\n",
       "      <td>1</td>\n",
       "      <td>0</td>\n",
       "      <td>1</td>\n",
       "      <td>1</td>\n",
       "    </tr>\n",
       "    <tr>\n",
       "      <th>295</th>\n",
       "      <td>00be7dcac98dc95d</td>\n",
       "      <td>this user is such a worthless goddamn faggot f...</td>\n",
       "      <td>1</td>\n",
       "      <td>0</td>\n",
       "      <td>1</td>\n",
       "      <td>0</td>\n",
       "      <td>1</td>\n",
       "      <td>0</td>\n",
       "    </tr>\n",
       "    <tr>\n",
       "      <th>298</th>\n",
       "      <td>00c0b8ed05ed7833</td>\n",
       "      <td>Fuck off\\n\\nYou are NOT an administrator. You ...</td>\n",
       "      <td>1</td>\n",
       "      <td>0</td>\n",
       "      <td>1</td>\n",
       "      <td>0</td>\n",
       "      <td>0</td>\n",
       "      <td>0</td>\n",
       "    </tr>\n",
       "    <tr>\n",
       "      <th>312</th>\n",
       "      <td>00c59720428c985a</td>\n",
       "      <td>\"\\n\\n Fuck you \\n\\n  Fuck you award go fuck yo...</td>\n",
       "      <td>1</td>\n",
       "      <td>0</td>\n",
       "      <td>1</td>\n",
       "      <td>0</td>\n",
       "      <td>1</td>\n",
       "      <td>0</td>\n",
       "    </tr>\n",
       "    <tr>\n",
       "      <th>318</th>\n",
       "      <td>00cce3996a16c116</td>\n",
       "      <td>Keep your eye on it, no one cares, OK? People ...</td>\n",
       "      <td>1</td>\n",
       "      <td>0</td>\n",
       "      <td>0</td>\n",
       "      <td>0</td>\n",
       "      <td>1</td>\n",
       "      <td>0</td>\n",
       "    </tr>\n",
       "    <tr>\n",
       "      <th>324</th>\n",
       "      <td>00d1d2f4f247d472</td>\n",
       "      <td>MATT HARDY IS SO FUCKY!!!''Italic text[[Media:...</td>\n",
       "      <td>1</td>\n",
       "      <td>0</td>\n",
       "      <td>1</td>\n",
       "      <td>0</td>\n",
       "      <td>0</td>\n",
       "      <td>0</td>\n",
       "    </tr>\n",
       "    <tr>\n",
       "      <th>344</th>\n",
       "      <td>00dc0760994133ff</td>\n",
       "      <td>Fuck you \\n\\n-User:The Bohemian Shinobis yeah,...</td>\n",
       "      <td>1</td>\n",
       "      <td>0</td>\n",
       "      <td>1</td>\n",
       "      <td>0</td>\n",
       "      <td>1</td>\n",
       "      <td>0</td>\n",
       "    </tr>\n",
       "    <tr>\n",
       "      <th>392</th>\n",
       "      <td>00f59a92085d27ab</td>\n",
       "      <td>Dear Mokele,\\nYou have no right to tell people...</td>\n",
       "      <td>1</td>\n",
       "      <td>0</td>\n",
       "      <td>0</td>\n",
       "      <td>0</td>\n",
       "      <td>1</td>\n",
       "      <td>0</td>\n",
       "    </tr>\n",
       "    <tr>\n",
       "      <th>415</th>\n",
       "      <td>0109d5a4788850f7</td>\n",
       "      <td>Thank you for your RACIST experimenting with t...</td>\n",
       "      <td>1</td>\n",
       "      <td>0</td>\n",
       "      <td>1</td>\n",
       "      <td>0</td>\n",
       "      <td>1</td>\n",
       "      <td>0</td>\n",
       "    </tr>\n",
       "    <tr>\n",
       "      <th>429</th>\n",
       "      <td>01166f26ee280e56</td>\n",
       "      <td>Gay \\n\\nThe existence of CDVF is further proof...</td>\n",
       "      <td>1</td>\n",
       "      <td>0</td>\n",
       "      <td>1</td>\n",
       "      <td>0</td>\n",
       "      <td>1</td>\n",
       "      <td>1</td>\n",
       "    </tr>\n",
       "    <tr>\n",
       "      <th>437</th>\n",
       "      <td>011d0c0a6c8e5765</td>\n",
       "      <td>I NEVER FUCKING MADE THIS MOTHER FUCKING ARTIC...</td>\n",
       "      <td>1</td>\n",
       "      <td>0</td>\n",
       "      <td>1</td>\n",
       "      <td>0</td>\n",
       "      <td>1</td>\n",
       "      <td>0</td>\n",
       "    </tr>\n",
       "  </tbody>\n",
       "</table>\n",
       "</div>"
      ],
      "text/plain": [
       "                   id                                       comment_text  \\\n",
       "201  007f1839ada915e6  Your blatant POV pushing \\n\\nNeither of you gu...   \n",
       "211  0086998b34865f93              Fuck you, block me, you faggot pussy!   \n",
       "218  008e0818dde894fb  Kill all niggers. \\n\\nI have hard, that others...   \n",
       "231  009371b0ef213487  Burn Deck \\n\\nIf that'd guy's burn deck is lik...   \n",
       "238  0097dd5c29bf7a15  u r a tw@ fuck off u gay boy.U r smelly.Fuck u...   \n",
       "295  00be7dcac98dc95d  this user is such a worthless goddamn faggot f...   \n",
       "298  00c0b8ed05ed7833  Fuck off\\n\\nYou are NOT an administrator. You ...   \n",
       "312  00c59720428c985a  \"\\n\\n Fuck you \\n\\n  Fuck you award go fuck yo...   \n",
       "318  00cce3996a16c116  Keep your eye on it, no one cares, OK? People ...   \n",
       "324  00d1d2f4f247d472  MATT HARDY IS SO FUCKY!!!''Italic text[[Media:...   \n",
       "344  00dc0760994133ff  Fuck you \\n\\n-User:The Bohemian Shinobis yeah,...   \n",
       "392  00f59a92085d27ab  Dear Mokele,\\nYou have no right to tell people...   \n",
       "415  0109d5a4788850f7  Thank you for your RACIST experimenting with t...   \n",
       "429  01166f26ee280e56  Gay \\n\\nThe existence of CDVF is further proof...   \n",
       "437  011d0c0a6c8e5765  I NEVER FUCKING MADE THIS MOTHER FUCKING ARTIC...   \n",
       "\n",
       "     toxic  severe_toxic  obscene  threat  insult  identity_hate  \n",
       "201      1             0        1       0       0              0  \n",
       "211      1             0        1       0       1              0  \n",
       "218      1             0        1       0       1              1  \n",
       "231      1             0        1       0       1              0  \n",
       "238      1             0        1       0       1              1  \n",
       "295      1             0        1       0       1              0  \n",
       "298      1             0        1       0       0              0  \n",
       "312      1             0        1       0       1              0  \n",
       "318      1             0        0       0       1              0  \n",
       "324      1             0        1       0       0              0  \n",
       "344      1             0        1       0       1              0  \n",
       "392      1             0        0       0       1              0  \n",
       "415      1             0        1       0       1              0  \n",
       "429      1             0        1       0       1              1  \n",
       "437      1             0        1       0       1              0  "
      ]
     },
     "execution_count": 39,
     "metadata": {},
     "output_type": "execute_result"
    }
   ],
   "source": [
    "train[(train['obscene']==1)|(train['threat']==1)|(train['insult']==1)|(train['identity_hate']==1)][15:30]"
   ]
  },
  {
   "cell_type": "code",
   "execution_count": 40,
   "metadata": {},
   "outputs": [
    {
     "name": "stdout",
     "output_type": "stream",
     "text": [
      "Dear Mokele,\n",
      "You have no right to tell people to die in a fire. Just because that IP address is being used for vandilism does not mean you can talk to people like that. You are in fact a bigger loser than the person who you block.\n"
     ]
    }
   ],
   "source": [
    "print train['comment_text'].loc[392]"
   ]
  },
  {
   "cell_type": "markdown",
   "metadata": {},
   "source": [
    "Further cleaning:\n",
    "1. split concatenated upper-lowercase letters, e.g. 'KeepGoing' -> 'Keep Going'\n",
    "2. remove the tail of word with repeated letters, e.g. YAAAAA -> YA"
   ]
  },
  {
   "cell_type": "markdown",
   "metadata": {},
   "source": [
    "### Word vector observation"
   ]
  },
  {
   "cell_type": "code",
   "execution_count": 41,
   "metadata": {},
   "outputs": [],
   "source": [
    "train = pd.read_csv('train.csv')\n",
    "test = pd.read_csv('test.csv')"
   ]
  },
  {
   "cell_type": "code",
   "execution_count": 42,
   "metadata": {},
   "outputs": [
    {
     "name": "stdout",
     "output_type": "stream",
     "text": [
      "Tokenizing the review texts...\n",
      "CPU times: user 1min 45s, sys: 40.2 s, total: 2min 25s\n",
      "Wall time: 2min 32s\n"
     ]
    }
   ],
   "source": [
    "%%time\n",
    "# Cleaning and parsing texts\n",
    "print \"Tokenizing the review texts...\"\n",
    "trn_sents = train['comment_text'].apply(\n",
    "\tlambda x: [clean_text(s) for s in nltk.sent_tokenize(x.decode('utf-8'))])\n",
    "test_sents = test['comment_text'].apply(\n",
    "\tlambda x: [clean_text(s) for s in nltk.sent_tokenize(x.decode('utf-8'))])\n",
    "\n",
    "tokenized_sents = []\n",
    "for rev in trn_sents:\n",
    "\ttokenized_sents += rev\n",
    "for rev in test_sents:\n",
    "\ttokenized_sents += rev"
   ]
  },
  {
   "cell_type": "code",
   "execution_count": 43,
   "metadata": {},
   "outputs": [],
   "source": [
    "import logging\n",
    "logging.basicConfig(format='%(asctime)s : %(levelname)s : %(message)s',\\\n",
    "    level=logging.INFO)"
   ]
  },
  {
   "cell_type": "code",
   "execution_count": 44,
   "metadata": {
    "scrolled": true
   },
   "outputs": [
    {
     "name": "stderr",
     "output_type": "stream",
     "text": [
      "2018-03-05 12:59:40,108 : INFO : 'pattern' package not found; tag filters are not available for English\n",
      "2018-03-05 12:59:40,145 : WARNING : consider setting layer size to a multiple of 4 for greater performance\n",
      "2018-03-05 12:59:40,158 : INFO : collecting all words and their counts\n",
      "2018-03-05 12:59:40,163 : INFO : PROGRESS: at sentence #0, processed 0 words, keeping 0 word types\n",
      "2018-03-05 12:59:40,288 : INFO : PROGRESS: at sentence #10000, processed 151775 words, keeping 16566 word types\n"
     ]
    },
    {
     "name": "stdout",
     "output_type": "stream",
     "text": [
      "Training word vector model...\n"
     ]
    },
    {
     "name": "stderr",
     "output_type": "stream",
     "text": [
      "2018-03-05 12:59:40,390 : INFO : PROGRESS: at sentence #20000, processed 306855 words, keeping 25516 word types\n",
      "2018-03-05 12:59:40,477 : INFO : PROGRESS: at sentence #30000, processed 450012 words, keeping 32572 word types\n",
      "2018-03-05 12:59:40,564 : INFO : PROGRESS: at sentence #40000, processed 598370 words, keeping 39143 word types\n",
      "2018-03-05 12:59:40,682 : INFO : PROGRESS: at sentence #50000, processed 747296 words, keeping 45064 word types\n",
      "2018-03-05 12:59:40,834 : INFO : PROGRESS: at sentence #60000, processed 898418 words, keeping 50625 word types\n",
      "2018-03-05 12:59:40,949 : INFO : PROGRESS: at sentence #70000, processed 1054279 words, keeping 56295 word types\n",
      "2018-03-05 12:59:41,070 : INFO : PROGRESS: at sentence #80000, processed 1199312 words, keeping 61240 word types\n",
      "2018-03-05 12:59:41,174 : INFO : PROGRESS: at sentence #90000, processed 1344618 words, keeping 65977 word types\n",
      "2018-03-05 12:59:41,287 : INFO : PROGRESS: at sentence #100000, processed 1486706 words, keeping 70348 word types\n",
      "2018-03-05 12:59:41,386 : INFO : PROGRESS: at sentence #110000, processed 1635775 words, keeping 75235 word types\n",
      "2018-03-05 12:59:41,548 : INFO : PROGRESS: at sentence #120000, processed 1786366 words, keeping 79614 word types\n",
      "2018-03-05 12:59:41,697 : INFO : PROGRESS: at sentence #130000, processed 1935926 words, keeping 83796 word types\n",
      "2018-03-05 12:59:41,901 : INFO : PROGRESS: at sentence #140000, processed 2089890 words, keeping 88033 word types\n",
      "2018-03-05 12:59:42,039 : INFO : PROGRESS: at sentence #150000, processed 2248293 words, keeping 92356 word types\n",
      "2018-03-05 12:59:42,151 : INFO : PROGRESS: at sentence #160000, processed 2401761 words, keeping 96706 word types\n",
      "2018-03-05 12:59:42,266 : INFO : PROGRESS: at sentence #170000, processed 2553255 words, keeping 100790 word types\n",
      "2018-03-05 12:59:42,398 : INFO : PROGRESS: at sentence #180000, processed 2704261 words, keeping 104619 word types\n",
      "2018-03-05 12:59:42,511 : INFO : PROGRESS: at sentence #190000, processed 2856560 words, keeping 108461 word types\n",
      "2018-03-05 12:59:42,624 : INFO : PROGRESS: at sentence #200000, processed 3006859 words, keeping 112310 word types\n",
      "2018-03-05 12:59:42,757 : INFO : PROGRESS: at sentence #210000, processed 3145953 words, keeping 115639 word types\n",
      "2018-03-05 12:59:42,906 : INFO : PROGRESS: at sentence #220000, processed 3297810 words, keeping 119248 word types\n",
      "2018-03-05 12:59:43,019 : INFO : PROGRESS: at sentence #230000, processed 3447151 words, keeping 122601 word types\n",
      "2018-03-05 12:59:43,127 : INFO : PROGRESS: at sentence #240000, processed 3589538 words, keeping 125978 word types\n",
      "2018-03-05 12:59:43,255 : INFO : PROGRESS: at sentence #250000, processed 3735461 words, keeping 129465 word types\n",
      "2018-03-05 12:59:43,393 : INFO : PROGRESS: at sentence #260000, processed 3883570 words, keeping 132635 word types\n",
      "2018-03-05 12:59:43,506 : INFO : PROGRESS: at sentence #270000, processed 4037869 words, keeping 135969 word types\n",
      "2018-03-05 12:59:43,630 : INFO : PROGRESS: at sentence #280000, processed 4182775 words, keeping 139221 word types\n",
      "2018-03-05 12:59:43,725 : INFO : PROGRESS: at sentence #290000, processed 4330533 words, keeping 142565 word types\n",
      "2018-03-05 12:59:43,846 : INFO : PROGRESS: at sentence #300000, processed 4479012 words, keeping 145890 word types\n",
      "2018-03-05 12:59:43,961 : INFO : PROGRESS: at sentence #310000, processed 4628398 words, keeping 149282 word types\n",
      "2018-03-05 12:59:44,094 : INFO : PROGRESS: at sentence #320000, processed 4781609 words, keeping 152538 word types\n",
      "2018-03-05 12:59:44,203 : INFO : PROGRESS: at sentence #330000, processed 4932768 words, keeping 155906 word types\n",
      "2018-03-05 12:59:44,303 : INFO : PROGRESS: at sentence #340000, processed 5086687 words, keeping 159054 word types\n",
      "2018-03-05 12:59:44,396 : INFO : PROGRESS: at sentence #350000, processed 5235205 words, keeping 162118 word types\n",
      "2018-03-05 12:59:44,503 : INFO : PROGRESS: at sentence #360000, processed 5384424 words, keeping 165354 word types\n",
      "2018-03-05 12:59:44,608 : INFO : PROGRESS: at sentence #370000, processed 5539419 words, keeping 168450 word types\n",
      "2018-03-05 12:59:44,715 : INFO : PROGRESS: at sentence #380000, processed 5693005 words, keeping 171486 word types\n",
      "2018-03-05 12:59:44,808 : INFO : PROGRESS: at sentence #390000, processed 5843993 words, keeping 174434 word types\n",
      "2018-03-05 12:59:44,930 : INFO : PROGRESS: at sentence #400000, processed 5993964 words, keeping 177317 word types\n",
      "2018-03-05 12:59:45,050 : INFO : PROGRESS: at sentence #410000, processed 6147716 words, keeping 180225 word types\n",
      "2018-03-05 12:59:45,146 : INFO : PROGRESS: at sentence #420000, processed 6292125 words, keeping 183036 word types\n",
      "2018-03-05 12:59:45,262 : INFO : PROGRESS: at sentence #430000, processed 6443734 words, keeping 185844 word types\n",
      "2018-03-05 12:59:45,400 : INFO : PROGRESS: at sentence #440000, processed 6594731 words, keeping 188963 word types\n",
      "2018-03-05 12:59:45,542 : INFO : PROGRESS: at sentence #450000, processed 6750506 words, keeping 191907 word types\n",
      "2018-03-05 12:59:45,637 : INFO : PROGRESS: at sentence #460000, processed 6901708 words, keeping 194775 word types\n",
      "2018-03-05 12:59:45,744 : INFO : PROGRESS: at sentence #470000, processed 7057184 words, keeping 197502 word types\n",
      "2018-03-05 12:59:45,858 : INFO : PROGRESS: at sentence #480000, processed 7204980 words, keeping 200147 word types\n",
      "2018-03-05 12:59:45,993 : INFO : PROGRESS: at sentence #490000, processed 7359479 words, keeping 203061 word types\n",
      "2018-03-05 12:59:46,108 : INFO : PROGRESS: at sentence #500000, processed 7511429 words, keeping 206113 word types\n",
      "2018-03-05 12:59:46,213 : INFO : PROGRESS: at sentence #510000, processed 7659758 words, keeping 208978 word types\n",
      "2018-03-05 12:59:46,331 : INFO : PROGRESS: at sentence #520000, processed 7810835 words, keeping 211746 word types\n",
      "2018-03-05 12:59:46,454 : INFO : PROGRESS: at sentence #530000, processed 7961347 words, keeping 214540 word types\n",
      "2018-03-05 12:59:46,575 : INFO : PROGRESS: at sentence #540000, processed 8111106 words, keeping 217140 word types\n",
      "2018-03-05 12:59:46,691 : INFO : PROGRESS: at sentence #550000, processed 8260994 words, keeping 219698 word types\n",
      "2018-03-05 12:59:46,799 : INFO : PROGRESS: at sentence #560000, processed 8418548 words, keeping 222493 word types\n",
      "2018-03-05 12:59:46,938 : INFO : PROGRESS: at sentence #570000, processed 8573229 words, keeping 225334 word types\n",
      "2018-03-05 12:59:47,050 : INFO : PROGRESS: at sentence #580000, processed 8725766 words, keeping 227863 word types\n",
      "2018-03-05 12:59:47,156 : INFO : PROGRESS: at sentence #590000, processed 8870382 words, keeping 230319 word types\n",
      "2018-03-05 12:59:47,287 : INFO : PROGRESS: at sentence #600000, processed 9025334 words, keeping 233074 word types\n",
      "2018-03-05 12:59:47,397 : INFO : PROGRESS: at sentence #610000, processed 9179720 words, keeping 235758 word types\n",
      "2018-03-05 12:59:47,523 : INFO : PROGRESS: at sentence #620000, processed 9334107 words, keeping 238506 word types\n",
      "2018-03-05 12:59:47,646 : INFO : PROGRESS: at sentence #630000, processed 9486953 words, keeping 241280 word types\n",
      "2018-03-05 12:59:47,763 : INFO : PROGRESS: at sentence #640000, processed 9632940 words, keeping 243679 word types\n",
      "2018-03-05 12:59:47,885 : INFO : PROGRESS: at sentence #650000, processed 9783677 words, keeping 246223 word types\n",
      "2018-03-05 12:59:48,028 : INFO : PROGRESS: at sentence #660000, processed 9940077 words, keeping 248731 word types\n",
      "2018-03-05 12:59:48,162 : INFO : PROGRESS: at sentence #670000, processed 10094094 words, keeping 251555 word types\n",
      "2018-03-05 12:59:48,290 : INFO : PROGRESS: at sentence #680000, processed 10243611 words, keeping 254102 word types\n",
      "2018-03-05 12:59:48,430 : INFO : PROGRESS: at sentence #690000, processed 10397199 words, keeping 256635 word types\n",
      "2018-03-05 12:59:48,568 : INFO : PROGRESS: at sentence #700000, processed 10544806 words, keeping 258989 word types\n",
      "2018-03-05 12:59:48,709 : INFO : PROGRESS: at sentence #710000, processed 10699065 words, keeping 262501 word types\n",
      "2018-03-05 12:59:48,833 : INFO : PROGRESS: at sentence #720000, processed 10846202 words, keeping 265584 word types\n",
      "2018-03-05 12:59:48,992 : INFO : PROGRESS: at sentence #730000, processed 10994130 words, keeping 268605 word types\n"
     ]
    },
    {
     "name": "stderr",
     "output_type": "stream",
     "text": [
      "2018-03-05 12:59:49,097 : INFO : PROGRESS: at sentence #740000, processed 11140435 words, keeping 271716 word types\n",
      "2018-03-05 12:59:49,216 : INFO : PROGRESS: at sentence #750000, processed 11292347 words, keeping 274759 word types\n",
      "2018-03-05 12:59:49,340 : INFO : PROGRESS: at sentence #760000, processed 11443680 words, keeping 278363 word types\n",
      "2018-03-05 12:59:49,480 : INFO : PROGRESS: at sentence #770000, processed 11585298 words, keeping 281657 word types\n",
      "2018-03-05 12:59:49,601 : INFO : PROGRESS: at sentence #780000, processed 11736091 words, keeping 284807 word types\n",
      "2018-03-05 12:59:49,714 : INFO : PROGRESS: at sentence #790000, processed 11888718 words, keeping 288119 word types\n",
      "2018-03-05 12:59:49,856 : INFO : PROGRESS: at sentence #800000, processed 12034491 words, keeping 291467 word types\n",
      "2018-03-05 12:59:50,026 : INFO : PROGRESS: at sentence #810000, processed 12185116 words, keeping 294559 word types\n",
      "2018-03-05 12:59:50,178 : INFO : PROGRESS: at sentence #820000, processed 12330499 words, keeping 297406 word types\n",
      "2018-03-05 12:59:50,359 : INFO : PROGRESS: at sentence #830000, processed 12474679 words, keeping 300311 word types\n",
      "2018-03-05 12:59:50,567 : INFO : PROGRESS: at sentence #840000, processed 12621263 words, keeping 303392 word types\n",
      "2018-03-05 12:59:50,765 : INFO : PROGRESS: at sentence #850000, processed 12755222 words, keeping 306338 word types\n",
      "2018-03-05 12:59:51,028 : INFO : PROGRESS: at sentence #860000, processed 12907794 words, keeping 309806 word types\n",
      "2018-03-05 12:59:51,260 : INFO : PROGRESS: at sentence #870000, processed 13048451 words, keeping 312983 word types\n",
      "2018-03-05 12:59:51,487 : INFO : PROGRESS: at sentence #880000, processed 13196937 words, keeping 315783 word types\n",
      "2018-03-05 12:59:51,652 : INFO : PROGRESS: at sentence #890000, processed 13347848 words, keeping 319320 word types\n",
      "2018-03-05 12:59:51,798 : INFO : PROGRESS: at sentence #900000, processed 13500745 words, keeping 322697 word types\n",
      "2018-03-05 12:59:51,928 : INFO : PROGRESS: at sentence #910000, processed 13643300 words, keeping 325391 word types\n",
      "2018-03-05 12:59:52,056 : INFO : PROGRESS: at sentence #920000, processed 13792415 words, keeping 328426 word types\n",
      "2018-03-05 12:59:52,196 : INFO : PROGRESS: at sentence #930000, processed 13940774 words, keeping 331188 word types\n",
      "2018-03-05 12:59:52,312 : INFO : PROGRESS: at sentence #940000, processed 14092075 words, keeping 334090 word types\n",
      "2018-03-05 12:59:52,446 : INFO : PROGRESS: at sentence #950000, processed 14237451 words, keeping 336911 word types\n",
      "2018-03-05 12:59:52,580 : INFO : PROGRESS: at sentence #960000, processed 14376833 words, keeping 340039 word types\n",
      "2018-03-05 12:59:52,705 : INFO : PROGRESS: at sentence #970000, processed 14522845 words, keeping 343202 word types\n",
      "2018-03-05 12:59:52,830 : INFO : PROGRESS: at sentence #980000, processed 14670705 words, keeping 345705 word types\n",
      "2018-03-05 12:59:52,954 : INFO : PROGRESS: at sentence #990000, processed 14817344 words, keeping 348767 word types\n",
      "2018-03-05 12:59:53,141 : INFO : PROGRESS: at sentence #1000000, processed 14967838 words, keeping 352644 word types\n",
      "2018-03-05 12:59:53,277 : INFO : PROGRESS: at sentence #1010000, processed 15112094 words, keeping 355736 word types\n",
      "2018-03-05 12:59:53,396 : INFO : PROGRESS: at sentence #1020000, processed 15254696 words, keeping 358484 word types\n",
      "2018-03-05 12:59:53,586 : INFO : PROGRESS: at sentence #1030000, processed 15399130 words, keeping 361770 word types\n",
      "2018-03-05 12:59:53,691 : INFO : PROGRESS: at sentence #1040000, processed 15539247 words, keeping 364588 word types\n",
      "2018-03-05 12:59:53,839 : INFO : PROGRESS: at sentence #1050000, processed 15692124 words, keeping 367367 word types\n",
      "2018-03-05 12:59:53,963 : INFO : PROGRESS: at sentence #1060000, processed 15829868 words, keeping 370201 word types\n",
      "2018-03-05 12:59:54,098 : INFO : PROGRESS: at sentence #1070000, processed 15976817 words, keeping 372854 word types\n",
      "2018-03-05 12:59:54,227 : INFO : PROGRESS: at sentence #1080000, processed 16127518 words, keeping 376035 word types\n",
      "2018-03-05 12:59:54,366 : INFO : PROGRESS: at sentence #1090000, processed 16271412 words, keeping 378655 word types\n",
      "2018-03-05 12:59:54,488 : INFO : PROGRESS: at sentence #1100000, processed 16420773 words, keeping 381832 word types\n",
      "2018-03-05 12:59:54,609 : INFO : PROGRESS: at sentence #1110000, processed 16572884 words, keeping 384460 word types\n",
      "2018-03-05 12:59:54,720 : INFO : PROGRESS: at sentence #1120000, processed 16718705 words, keeping 387023 word types\n",
      "2018-03-05 12:59:54,849 : INFO : PROGRESS: at sentence #1130000, processed 16863229 words, keeping 389556 word types\n",
      "2018-03-05 12:59:54,956 : INFO : PROGRESS: at sentence #1140000, processed 17002517 words, keeping 392170 word types\n",
      "2018-03-05 12:59:55,063 : INFO : PROGRESS: at sentence #1150000, processed 17145923 words, keeping 395055 word types\n",
      "2018-03-05 12:59:55,178 : INFO : PROGRESS: at sentence #1160000, processed 17299385 words, keeping 398856 word types\n",
      "2018-03-05 12:59:55,280 : INFO : PROGRESS: at sentence #1170000, processed 17444005 words, keeping 402072 word types\n",
      "2018-03-05 12:59:55,382 : INFO : PROGRESS: at sentence #1180000, processed 17586696 words, keeping 405013 word types\n",
      "2018-03-05 12:59:55,489 : INFO : PROGRESS: at sentence #1190000, processed 17732027 words, keeping 407990 word types\n",
      "2018-03-05 12:59:55,596 : INFO : PROGRESS: at sentence #1200000, processed 17878482 words, keeping 410673 word types\n",
      "2018-03-05 12:59:55,700 : INFO : PROGRESS: at sentence #1210000, processed 18026497 words, keeping 413134 word types\n",
      "2018-03-05 12:59:55,811 : INFO : PROGRESS: at sentence #1220000, processed 18174877 words, keeping 415712 word types\n",
      "2018-03-05 12:59:55,912 : INFO : PROGRESS: at sentence #1230000, processed 18325840 words, keeping 418413 word types\n",
      "2018-03-05 12:59:56,023 : INFO : PROGRESS: at sentence #1240000, processed 18465543 words, keeping 420843 word types\n",
      "2018-03-05 12:59:56,120 : INFO : PROGRESS: at sentence #1250000, processed 18612067 words, keeping 423581 word types\n",
      "2018-03-05 12:59:56,231 : INFO : PROGRESS: at sentence #1260000, processed 18764086 words, keeping 426574 word types\n",
      "2018-03-05 12:59:56,333 : INFO : PROGRESS: at sentence #1270000, processed 18902423 words, keeping 429018 word types\n",
      "2018-03-05 12:59:56,436 : INFO : PROGRESS: at sentence #1280000, processed 19051093 words, keeping 431793 word types\n",
      "2018-03-05 12:59:56,546 : INFO : PROGRESS: at sentence #1290000, processed 19202756 words, keeping 434925 word types\n",
      "2018-03-05 12:59:56,659 : INFO : PROGRESS: at sentence #1300000, processed 19352544 words, keeping 437579 word types\n",
      "2018-03-05 12:59:56,772 : INFO : PROGRESS: at sentence #1310000, processed 19499931 words, keeping 439998 word types\n",
      "2018-03-05 12:59:56,863 : INFO : collected 442078 word types from a corpus of 19613901 raw words and 1317520 sentences\n",
      "2018-03-05 12:59:56,865 : INFO : Loading a fresh vocabulary\n",
      "2018-03-05 12:59:58,815 : INFO : min_count=30 retains 19883 unique words (4% of original 442078, drops 422195)\n",
      "2018-03-05 12:59:58,821 : INFO : min_count=30 leaves 18569286 word corpus (94% of original 19613901, drops 1044615)\n",
      "2018-03-05 12:59:58,911 : INFO : deleting the raw counts dictionary of 442078 items\n",
      "2018-03-05 12:59:58,963 : INFO : sample=0.001 downsamples 50 most-common words\n",
      "2018-03-05 12:59:58,965 : INFO : downsampling leaves estimated 14006158 word corpus (75.4% of prior 18569286)\n",
      "2018-03-05 12:59:58,966 : INFO : estimated required memory for 19883 words and 50 dimensions: 17894700 bytes\n",
      "2018-03-05 12:59:59,067 : INFO : resetting layer weights\n",
      "2018-03-05 12:59:59,395 : INFO : training model with 4 workers on 19883 vocabulary and 50 features, using sg=1 hs=0 sample=0.001 negative=5 window=10\n",
      "2018-03-05 12:59:59,397 : INFO : expecting 1317520 sentences, matching count from corpus used for vocabulary survey\n",
      "2018-03-05 13:00:00,499 : INFO : PROGRESS: at 0.41% examples, 278168 words/s, in_qsize 7, out_qsize 0\n",
      "2018-03-05 13:00:01,531 : INFO : PROGRESS: at 0.82% examples, 276148 words/s, in_qsize 8, out_qsize 0\n",
      "2018-03-05 13:00:02,547 : INFO : PROGRESS: at 1.22% examples, 277729 words/s, in_qsize 8, out_qsize 0\n",
      "2018-03-05 13:00:03,599 : INFO : PROGRESS: at 1.59% examples, 267585 words/s, in_qsize 8, out_qsize 0\n"
     ]
    },
    {
     "name": "stderr",
     "output_type": "stream",
     "text": [
      "2018-03-05 13:00:04,619 : INFO : PROGRESS: at 1.82% examples, 246458 words/s, in_qsize 7, out_qsize 0\n",
      "2018-03-05 13:00:05,620 : INFO : PROGRESS: at 2.21% examples, 251503 words/s, in_qsize 7, out_qsize 0\n",
      "2018-03-05 13:00:06,664 : INFO : PROGRESS: at 2.59% examples, 253685 words/s, in_qsize 8, out_qsize 0\n",
      "2018-03-05 13:00:07,676 : INFO : PROGRESS: at 3.00% examples, 258052 words/s, in_qsize 8, out_qsize 0\n",
      "2018-03-05 13:00:08,682 : INFO : PROGRESS: at 3.42% examples, 260924 words/s, in_qsize 8, out_qsize 0\n",
      "2018-03-05 13:00:09,703 : INFO : PROGRESS: at 3.83% examples, 262757 words/s, in_qsize 8, out_qsize 0\n",
      "2018-03-05 13:00:10,708 : INFO : PROGRESS: at 4.24% examples, 264701 words/s, in_qsize 8, out_qsize 0\n",
      "2018-03-05 13:00:11,709 : INFO : PROGRESS: at 4.66% examples, 266834 words/s, in_qsize 8, out_qsize 0\n",
      "2018-03-05 13:00:12,710 : INFO : PROGRESS: at 5.07% examples, 268703 words/s, in_qsize 8, out_qsize 0\n",
      "2018-03-05 13:00:13,711 : INFO : PROGRESS: at 5.48% examples, 270340 words/s, in_qsize 7, out_qsize 0\n",
      "2018-03-05 13:00:14,717 : INFO : PROGRESS: at 5.88% examples, 271210 words/s, in_qsize 8, out_qsize 0\n",
      "2018-03-05 13:00:15,727 : INFO : PROGRESS: at 6.26% examples, 271057 words/s, in_qsize 8, out_qsize 0\n",
      "2018-03-05 13:00:16,737 : INFO : PROGRESS: at 6.58% examples, 268392 words/s, in_qsize 8, out_qsize 0\n",
      "2018-03-05 13:00:17,744 : INFO : PROGRESS: at 6.88% examples, 265296 words/s, in_qsize 8, out_qsize 0\n",
      "2018-03-05 13:00:18,774 : INFO : PROGRESS: at 7.31% examples, 267022 words/s, in_qsize 8, out_qsize 0\n",
      "2018-03-05 13:00:19,787 : INFO : PROGRESS: at 7.74% examples, 268763 words/s, in_qsize 7, out_qsize 0\n",
      "2018-03-05 13:00:20,815 : INFO : PROGRESS: at 8.16% examples, 269857 words/s, in_qsize 7, out_qsize 0\n",
      "2018-03-05 13:00:21,826 : INFO : PROGRESS: at 8.57% examples, 270683 words/s, in_qsize 8, out_qsize 0\n",
      "2018-03-05 13:00:22,896 : INFO : PROGRESS: at 9.00% examples, 271365 words/s, in_qsize 8, out_qsize 1\n",
      "2018-03-05 13:00:23,913 : INFO : PROGRESS: at 9.42% examples, 272555 words/s, in_qsize 8, out_qsize 1\n",
      "2018-03-05 13:00:24,938 : INFO : PROGRESS: at 9.85% examples, 273340 words/s, in_qsize 8, out_qsize 0\n",
      "2018-03-05 13:00:25,982 : INFO : PROGRESS: at 10.21% examples, 272539 words/s, in_qsize 8, out_qsize 0\n",
      "2018-03-05 13:00:27,085 : INFO : PROGRESS: at 10.57% examples, 271184 words/s, in_qsize 7, out_qsize 0\n",
      "2018-03-05 13:00:28,077 : INFO : PROGRESS: at 10.93% examples, 270526 words/s, in_qsize 7, out_qsize 0\n",
      "2018-03-05 13:00:29,099 : INFO : PROGRESS: at 11.32% examples, 270361 words/s, in_qsize 8, out_qsize 0\n",
      "2018-03-05 13:00:30,120 : INFO : PROGRESS: at 11.56% examples, 266923 words/s, in_qsize 7, out_qsize 0\n",
      "2018-03-05 13:00:31,132 : INFO : PROGRESS: at 11.90% examples, 265930 words/s, in_qsize 7, out_qsize 0\n",
      "2018-03-05 13:00:32,129 : INFO : PROGRESS: at 12.31% examples, 266466 words/s, in_qsize 8, out_qsize 0\n",
      "2018-03-05 13:00:33,168 : INFO : PROGRESS: at 12.71% examples, 266545 words/s, in_qsize 7, out_qsize 1\n",
      "2018-03-05 13:00:34,181 : INFO : PROGRESS: at 13.14% examples, 266964 words/s, in_qsize 8, out_qsize 0\n",
      "2018-03-05 13:00:35,191 : INFO : PROGRESS: at 13.55% examples, 267435 words/s, in_qsize 8, out_qsize 0\n",
      "2018-03-05 13:00:36,197 : INFO : PROGRESS: at 13.95% examples, 267659 words/s, in_qsize 7, out_qsize 0\n",
      "2018-03-05 13:00:37,231 : INFO : PROGRESS: at 14.36% examples, 267886 words/s, in_qsize 7, out_qsize 0\n",
      "2018-03-05 13:00:38,245 : INFO : PROGRESS: at 14.77% examples, 268047 words/s, in_qsize 8, out_qsize 0\n",
      "2018-03-05 13:00:39,263 : INFO : PROGRESS: at 15.17% examples, 268310 words/s, in_qsize 8, out_qsize 0\n",
      "2018-03-05 13:00:40,277 : INFO : PROGRESS: at 15.57% examples, 268259 words/s, in_qsize 8, out_qsize 0\n",
      "2018-03-05 13:00:41,285 : INFO : PROGRESS: at 15.97% examples, 268256 words/s, in_qsize 8, out_qsize 0\n",
      "2018-03-05 13:00:42,303 : INFO : PROGRESS: at 16.36% examples, 268043 words/s, in_qsize 7, out_qsize 0\n",
      "2018-03-05 13:00:43,316 : INFO : PROGRESS: at 16.60% examples, 265738 words/s, in_qsize 8, out_qsize 0\n",
      "2018-03-05 13:00:44,346 : INFO : PROGRESS: at 17.02% examples, 266204 words/s, in_qsize 8, out_qsize 0\n",
      "2018-03-05 13:00:45,367 : INFO : PROGRESS: at 17.46% examples, 266654 words/s, in_qsize 8, out_qsize 0\n",
      "2018-03-05 13:00:46,382 : INFO : PROGRESS: at 17.87% examples, 266943 words/s, in_qsize 8, out_qsize 0\n",
      "2018-03-05 13:00:47,413 : INFO : PROGRESS: at 18.28% examples, 267142 words/s, in_qsize 8, out_qsize 0\n",
      "2018-03-05 13:00:48,448 : INFO : PROGRESS: at 18.68% examples, 267191 words/s, in_qsize 8, out_qsize 0\n",
      "2018-03-05 13:00:49,455 : INFO : PROGRESS: at 19.10% examples, 267491 words/s, in_qsize 7, out_qsize 0\n",
      "2018-03-05 13:00:50,494 : INFO : PROGRESS: at 19.54% examples, 267925 words/s, in_qsize 7, out_qsize 0\n",
      "2018-03-05 13:00:51,497 : INFO : PROGRESS: at 19.95% examples, 268391 words/s, in_qsize 8, out_qsize 0\n",
      "2018-03-05 13:00:52,516 : INFO : PROGRESS: at 20.37% examples, 268877 words/s, in_qsize 8, out_qsize 0\n",
      "2018-03-05 13:00:53,535 : INFO : PROGRESS: at 20.77% examples, 268958 words/s, in_qsize 7, out_qsize 0\n",
      "2018-03-05 13:00:54,555 : INFO : PROGRESS: at 21.18% examples, 269299 words/s, in_qsize 8, out_qsize 0\n",
      "2018-03-05 13:00:55,624 : INFO : PROGRESS: at 21.56% examples, 268751 words/s, in_qsize 7, out_qsize 0\n",
      "2018-03-05 13:00:56,663 : INFO : PROGRESS: at 21.88% examples, 267860 words/s, in_qsize 7, out_qsize 0\n",
      "2018-03-05 13:00:57,699 : INFO : PROGRESS: at 22.30% examples, 268347 words/s, in_qsize 8, out_qsize 0\n",
      "2018-03-05 13:00:58,713 : INFO : PROGRESS: at 22.72% examples, 268867 words/s, in_qsize 7, out_qsize 0\n",
      "2018-03-05 13:00:59,729 : INFO : PROGRESS: at 23.12% examples, 268899 words/s, in_qsize 8, out_qsize 0\n",
      "2018-03-05 13:01:00,741 : INFO : PROGRESS: at 23.52% examples, 269001 words/s, in_qsize 8, out_qsize 0\n",
      "2018-03-05 13:01:01,745 : INFO : PROGRESS: at 23.95% examples, 269365 words/s, in_qsize 6, out_qsize 0\n",
      "2018-03-05 13:01:02,763 : INFO : PROGRESS: at 24.37% examples, 269769 words/s, in_qsize 7, out_qsize 0\n",
      "2018-03-05 13:01:03,794 : INFO : PROGRESS: at 24.80% examples, 270086 words/s, in_qsize 7, out_qsize 0\n",
      "2018-03-05 13:01:04,799 : INFO : PROGRESS: at 25.20% examples, 270287 words/s, in_qsize 8, out_qsize 0\n",
      "2018-03-05 13:01:05,800 : INFO : PROGRESS: at 25.61% examples, 270608 words/s, in_qsize 7, out_qsize 0\n",
      "2018-03-05 13:01:06,830 : INFO : PROGRESS: at 26.02% examples, 270815 words/s, in_qsize 7, out_qsize 0\n",
      "2018-03-05 13:01:07,849 : INFO : PROGRESS: at 26.43% examples, 271053 words/s, in_qsize 7, out_qsize 0\n",
      "2018-03-05 13:01:08,916 : INFO : PROGRESS: at 26.75% examples, 270173 words/s, in_qsize 7, out_qsize 0\n",
      "2018-03-05 13:01:09,932 : INFO : PROGRESS: at 27.08% examples, 269608 words/s, in_qsize 7, out_qsize 0\n",
      "2018-03-05 13:01:10,935 : INFO : PROGRESS: at 27.46% examples, 269723 words/s, in_qsize 8, out_qsize 0\n",
      "2018-03-05 13:01:11,952 : INFO : PROGRESS: at 27.88% examples, 269946 words/s, in_qsize 8, out_qsize 0\n",
      "2018-03-05 13:01:12,965 : INFO : PROGRESS: at 28.28% examples, 270114 words/s, in_qsize 8, out_qsize 0\n",
      "2018-03-05 13:01:13,992 : INFO : PROGRESS: at 28.67% examples, 270213 words/s, in_qsize 8, out_qsize 0\n",
      "2018-03-05 13:01:15,019 : INFO : PROGRESS: at 29.08% examples, 270309 words/s, in_qsize 7, out_qsize 0\n",
      "2018-03-05 13:01:16,034 : INFO : PROGRESS: at 29.45% examples, 270238 words/s, in_qsize 8, out_qsize 0\n",
      "2018-03-05 13:01:17,040 : INFO : PROGRESS: at 29.86% examples, 270410 words/s, in_qsize 7, out_qsize 0\n",
      "2018-03-05 13:01:18,082 : INFO : PROGRESS: at 30.25% examples, 270455 words/s, in_qsize 7, out_qsize 1\n",
      "2018-03-05 13:01:19,095 : INFO : PROGRESS: at 30.66% examples, 270680 words/s, in_qsize 8, out_qsize 0\n",
      "2018-03-05 13:01:20,107 : INFO : PROGRESS: at 31.05% examples, 270658 words/s, in_qsize 8, out_qsize 0\n",
      "2018-03-05 13:01:21,149 : INFO : PROGRESS: at 31.43% examples, 270522 words/s, in_qsize 8, out_qsize 0\n",
      "2018-03-05 13:01:22,158 : INFO : PROGRESS: at 31.70% examples, 269451 words/s, in_qsize 7, out_qsize 0\n",
      "2018-03-05 13:01:23,183 : INFO : PROGRESS: at 32.09% examples, 269395 words/s, in_qsize 8, out_qsize 0\n",
      "2018-03-05 13:01:24,206 : INFO : PROGRESS: at 32.51% examples, 269696 words/s, in_qsize 8, out_qsize 0\n",
      "2018-03-05 13:01:25,214 : INFO : PROGRESS: at 32.92% examples, 269687 words/s, in_qsize 8, out_qsize 0\n"
     ]
    },
    {
     "name": "stderr",
     "output_type": "stream",
     "text": [
      "2018-03-05 13:01:26,253 : INFO : PROGRESS: at 33.36% examples, 269905 words/s, in_qsize 7, out_qsize 0\n",
      "2018-03-05 13:01:27,264 : INFO : PROGRESS: at 33.79% examples, 270292 words/s, in_qsize 8, out_qsize 0\n",
      "2018-03-05 13:01:28,268 : INFO : PROGRESS: at 34.20% examples, 270448 words/s, in_qsize 8, out_qsize 0\n",
      "2018-03-05 13:01:29,272 : INFO : PROGRESS: at 34.64% examples, 270751 words/s, in_qsize 7, out_qsize 0\n",
      "2018-03-05 13:01:30,289 : INFO : PROGRESS: at 35.05% examples, 270853 words/s, in_qsize 8, out_qsize 0\n",
      "2018-03-05 13:01:31,301 : INFO : PROGRESS: at 35.50% examples, 271186 words/s, in_qsize 7, out_qsize 0\n",
      "2018-03-05 13:01:32,306 : INFO : PROGRESS: at 35.94% examples, 271467 words/s, in_qsize 8, out_qsize 0\n",
      "2018-03-05 13:01:33,317 : INFO : PROGRESS: at 36.39% examples, 271814 words/s, in_qsize 7, out_qsize 0\n",
      "2018-03-05 13:01:34,382 : INFO : PROGRESS: at 36.80% examples, 271845 words/s, in_qsize 7, out_qsize 0\n",
      "2018-03-05 13:01:35,444 : INFO : PROGRESS: at 37.10% examples, 271002 words/s, in_qsize 8, out_qsize 1\n",
      "2018-03-05 13:01:36,459 : INFO : PROGRESS: at 37.57% examples, 271403 words/s, in_qsize 8, out_qsize 0\n",
      "2018-03-05 13:01:37,483 : INFO : PROGRESS: at 38.04% examples, 271831 words/s, in_qsize 8, out_qsize 0\n",
      "2018-03-05 13:01:38,500 : INFO : PROGRESS: at 38.49% examples, 272207 words/s, in_qsize 8, out_qsize 0\n",
      "2018-03-05 13:01:39,532 : INFO : PROGRESS: at 38.94% examples, 272497 words/s, in_qsize 6, out_qsize 2\n",
      "2018-03-05 13:01:40,604 : INFO : PROGRESS: at 39.39% examples, 272678 words/s, in_qsize 7, out_qsize 0\n",
      "2018-03-05 13:01:41,641 : INFO : PROGRESS: at 39.78% examples, 272559 words/s, in_qsize 8, out_qsize 0\n",
      "2018-03-05 13:01:42,652 : INFO : PROGRESS: at 40.19% examples, 272731 words/s, in_qsize 7, out_qsize 0\n",
      "2018-03-05 13:01:43,681 : INFO : PROGRESS: at 40.63% examples, 272988 words/s, in_qsize 7, out_qsize 0\n",
      "2018-03-05 13:01:44,702 : INFO : PROGRESS: at 41.06% examples, 273247 words/s, in_qsize 8, out_qsize 0\n",
      "2018-03-05 13:01:45,703 : INFO : PROGRESS: at 41.48% examples, 273363 words/s, in_qsize 8, out_qsize 0\n",
      "2018-03-05 13:01:46,732 : INFO : PROGRESS: at 41.88% examples, 273399 words/s, in_qsize 8, out_qsize 1\n",
      "2018-03-05 13:01:47,748 : INFO : PROGRESS: at 42.21% examples, 272999 words/s, in_qsize 7, out_qsize 0\n",
      "2018-03-05 13:01:48,784 : INFO : PROGRESS: at 42.56% examples, 272757 words/s, in_qsize 8, out_qsize 0\n",
      "2018-03-05 13:01:49,791 : INFO : PROGRESS: at 42.98% examples, 272984 words/s, in_qsize 7, out_qsize 0\n",
      "2018-03-05 13:01:50,812 : INFO : PROGRESS: at 43.44% examples, 273304 words/s, in_qsize 8, out_qsize 0\n",
      "2018-03-05 13:01:51,839 : INFO : PROGRESS: at 43.90% examples, 273601 words/s, in_qsize 8, out_qsize 0\n",
      "2018-03-05 13:01:52,861 : INFO : PROGRESS: at 44.34% examples, 273908 words/s, in_qsize 8, out_qsize 0\n",
      "2018-03-05 13:01:53,926 : INFO : PROGRESS: at 44.79% examples, 274091 words/s, in_qsize 7, out_qsize 1\n",
      "2018-03-05 13:01:54,947 : INFO : PROGRESS: at 45.24% examples, 274447 words/s, in_qsize 7, out_qsize 0\n",
      "2018-03-05 13:01:55,975 : INFO : PROGRESS: at 45.67% examples, 274654 words/s, in_qsize 7, out_qsize 0\n",
      "2018-03-05 13:01:56,984 : INFO : PROGRESS: at 46.10% examples, 274905 words/s, in_qsize 8, out_qsize 0\n",
      "2018-03-05 13:01:57,995 : INFO : PROGRESS: at 46.52% examples, 275088 words/s, in_qsize 7, out_qsize 0\n",
      "2018-03-05 13:01:59,022 : INFO : PROGRESS: at 46.90% examples, 274989 words/s, in_qsize 7, out_qsize 0\n",
      "2018-03-05 13:02:00,051 : INFO : PROGRESS: at 47.23% examples, 274594 words/s, in_qsize 8, out_qsize 0\n",
      "2018-03-05 13:02:01,052 : INFO : PROGRESS: at 47.47% examples, 273797 words/s, in_qsize 8, out_qsize 0\n",
      "2018-03-05 13:02:02,058 : INFO : PROGRESS: at 47.87% examples, 273807 words/s, in_qsize 7, out_qsize 0\n",
      "2018-03-05 13:02:03,089 : INFO : PROGRESS: at 48.31% examples, 274063 words/s, in_qsize 8, out_qsize 0\n",
      "2018-03-05 13:02:04,147 : INFO : PROGRESS: at 48.74% examples, 274251 words/s, in_qsize 8, out_qsize 0\n",
      "2018-03-05 13:02:05,149 : INFO : PROGRESS: at 49.18% examples, 274555 words/s, in_qsize 8, out_qsize 0\n",
      "2018-03-05 13:02:06,188 : INFO : PROGRESS: at 49.61% examples, 274714 words/s, in_qsize 8, out_qsize 0\n",
      "2018-03-05 13:02:07,201 : INFO : PROGRESS: at 50.05% examples, 275003 words/s, in_qsize 8, out_qsize 0\n",
      "2018-03-05 13:02:08,207 : INFO : PROGRESS: at 50.47% examples, 275172 words/s, in_qsize 8, out_qsize 0\n",
      "2018-03-05 13:02:09,211 : INFO : PROGRESS: at 50.90% examples, 275403 words/s, in_qsize 7, out_qsize 0\n",
      "2018-03-05 13:02:10,226 : INFO : PROGRESS: at 51.34% examples, 275619 words/s, in_qsize 7, out_qsize 1\n",
      "2018-03-05 13:02:11,246 : INFO : PROGRESS: at 51.78% examples, 275813 words/s, in_qsize 8, out_qsize 0\n",
      "2018-03-05 13:02:12,290 : INFO : PROGRESS: at 52.23% examples, 276006 words/s, in_qsize 8, out_qsize 0\n",
      "2018-03-05 13:02:13,294 : INFO : PROGRESS: at 52.66% examples, 276187 words/s, in_qsize 8, out_qsize 0\n",
      "2018-03-05 13:02:14,367 : INFO : PROGRESS: at 52.95% examples, 275420 words/s, in_qsize 7, out_qsize 0\n",
      "2018-03-05 13:02:15,376 : INFO : PROGRESS: at 53.39% examples, 275635 words/s, in_qsize 8, out_qsize 0\n",
      "2018-03-05 13:02:16,394 : INFO : PROGRESS: at 53.85% examples, 275868 words/s, in_qsize 7, out_qsize 0\n",
      "2018-03-05 13:02:17,425 : INFO : PROGRESS: at 54.29% examples, 276081 words/s, in_qsize 8, out_qsize 0\n",
      "2018-03-05 13:02:18,434 : INFO : PROGRESS: at 54.76% examples, 276350 words/s, in_qsize 7, out_qsize 0\n",
      "2018-03-05 13:02:19,449 : INFO : PROGRESS: at 55.19% examples, 276516 words/s, in_qsize 8, out_qsize 0\n",
      "2018-03-05 13:02:20,449 : INFO : PROGRESS: at 55.66% examples, 276757 words/s, in_qsize 8, out_qsize 0\n",
      "2018-03-05 13:02:21,468 : INFO : PROGRESS: at 56.12% examples, 276977 words/s, in_qsize 8, out_qsize 0\n",
      "2018-03-05 13:02:22,470 : INFO : PROGRESS: at 56.56% examples, 277184 words/s, in_qsize 8, out_qsize 1\n",
      "2018-03-05 13:02:23,471 : INFO : PROGRESS: at 57.00% examples, 277398 words/s, in_qsize 7, out_qsize 0\n",
      "2018-03-05 13:02:24,483 : INFO : PROGRESS: at 57.45% examples, 277528 words/s, in_qsize 7, out_qsize 0\n",
      "2018-03-05 13:02:25,514 : INFO : PROGRESS: at 57.89% examples, 277618 words/s, in_qsize 8, out_qsize 0\n",
      "2018-03-05 13:02:26,532 : INFO : PROGRESS: at 58.19% examples, 277173 words/s, in_qsize 7, out_qsize 0\n",
      "2018-03-05 13:02:27,537 : INFO : PROGRESS: at 58.47% examples, 276572 words/s, in_qsize 7, out_qsize 0\n",
      "2018-03-05 13:02:28,543 : INFO : PROGRESS: at 58.89% examples, 276619 words/s, in_qsize 7, out_qsize 0\n",
      "2018-03-05 13:02:29,549 : INFO : PROGRESS: at 59.33% examples, 276810 words/s, in_qsize 7, out_qsize 0\n",
      "2018-03-05 13:02:30,570 : INFO : PROGRESS: at 59.78% examples, 277014 words/s, in_qsize 7, out_qsize 0\n",
      "2018-03-05 13:02:31,600 : INFO : PROGRESS: at 60.22% examples, 277205 words/s, in_qsize 7, out_qsize 0\n",
      "2018-03-05 13:02:32,605 : INFO : PROGRESS: at 60.63% examples, 277248 words/s, in_qsize 8, out_qsize 0\n",
      "2018-03-05 13:02:33,648 : INFO : PROGRESS: at 61.06% examples, 277362 words/s, in_qsize 7, out_qsize 0\n",
      "2018-03-05 13:02:34,672 : INFO : PROGRESS: at 61.51% examples, 277512 words/s, in_qsize 8, out_qsize 0\n",
      "2018-03-05 13:02:35,699 : INFO : PROGRESS: at 61.94% examples, 277650 words/s, in_qsize 8, out_qsize 0\n",
      "2018-03-05 13:02:36,720 : INFO : PROGRESS: at 62.36% examples, 277767 words/s, in_qsize 7, out_qsize 0\n",
      "2018-03-05 13:02:37,724 : INFO : PROGRESS: at 62.74% examples, 277742 words/s, in_qsize 8, out_qsize 0\n",
      "2018-03-05 13:02:38,749 : INFO : PROGRESS: at 63.18% examples, 277883 words/s, in_qsize 8, out_qsize 1\n",
      "2018-03-05 13:02:39,795 : INFO : PROGRESS: at 63.52% examples, 277539 words/s, in_qsize 8, out_qsize 0\n",
      "2018-03-05 13:02:40,830 : INFO : PROGRESS: at 63.89% examples, 277321 words/s, in_qsize 7, out_qsize 0\n",
      "2018-03-05 13:02:41,844 : INFO : PROGRESS: at 64.33% examples, 277511 words/s, in_qsize 8, out_qsize 0\n",
      "2018-03-05 13:02:42,844 : INFO : PROGRESS: at 64.77% examples, 277683 words/s, in_qsize 8, out_qsize 0\n",
      "2018-03-05 13:02:43,869 : INFO : PROGRESS: at 65.20% examples, 277815 words/s, in_qsize 8, out_qsize 0\n",
      "2018-03-05 13:02:44,885 : INFO : PROGRESS: at 65.64% examples, 278002 words/s, in_qsize 8, out_qsize 0\n",
      "2018-03-05 13:02:45,902 : INFO : PROGRESS: at 66.07% examples, 278148 words/s, in_qsize 7, out_qsize 0\n",
      "2018-03-05 13:02:46,913 : INFO : PROGRESS: at 66.50% examples, 278299 words/s, in_qsize 8, out_qsize 0\n"
     ]
    },
    {
     "name": "stderr",
     "output_type": "stream",
     "text": [
      "2018-03-05 13:02:47,916 : INFO : PROGRESS: at 66.93% examples, 278458 words/s, in_qsize 7, out_qsize 0\n",
      "2018-03-05 13:02:48,956 : INFO : PROGRESS: at 67.36% examples, 278563 words/s, in_qsize 8, out_qsize 0\n",
      "2018-03-05 13:02:50,008 : INFO : PROGRESS: at 67.78% examples, 278590 words/s, in_qsize 8, out_qsize 0\n",
      "2018-03-05 13:02:51,009 : INFO : PROGRESS: at 68.21% examples, 278752 words/s, in_qsize 7, out_qsize 0\n",
      "2018-03-05 13:02:52,010 : INFO : PROGRESS: at 68.60% examples, 278787 words/s, in_qsize 7, out_qsize 0\n",
      "2018-03-05 13:02:53,050 : INFO : PROGRESS: at 68.92% examples, 278385 words/s, in_qsize 7, out_qsize 0\n",
      "2018-03-05 13:02:54,070 : INFO : PROGRESS: at 69.27% examples, 278241 words/s, in_qsize 8, out_qsize 0\n",
      "2018-03-05 13:02:55,082 : INFO : PROGRESS: at 69.69% examples, 278324 words/s, in_qsize 7, out_qsize 0\n",
      "2018-03-05 13:02:56,091 : INFO : PROGRESS: at 70.11% examples, 278431 words/s, in_qsize 8, out_qsize 0\n",
      "2018-03-05 13:02:57,105 : INFO : PROGRESS: at 70.53% examples, 278527 words/s, in_qsize 7, out_qsize 1\n",
      "2018-03-05 13:02:58,109 : INFO : PROGRESS: at 70.97% examples, 278721 words/s, in_qsize 8, out_qsize 0\n",
      "2018-03-05 13:02:59,122 : INFO : PROGRESS: at 71.40% examples, 278820 words/s, in_qsize 7, out_qsize 0\n",
      "2018-03-05 13:03:00,146 : INFO : PROGRESS: at 71.84% examples, 278935 words/s, in_qsize 8, out_qsize 0\n",
      "2018-03-05 13:03:01,176 : INFO : PROGRESS: at 72.28% examples, 279044 words/s, in_qsize 8, out_qsize 0\n",
      "2018-03-05 13:03:02,192 : INFO : PROGRESS: at 72.72% examples, 279180 words/s, in_qsize 8, out_qsize 0\n",
      "2018-03-05 13:03:03,209 : INFO : PROGRESS: at 73.17% examples, 279262 words/s, in_qsize 8, out_qsize 0\n",
      "2018-03-05 13:03:04,212 : INFO : PROGRESS: at 73.60% examples, 279373 words/s, in_qsize 8, out_qsize 0\n",
      "2018-03-05 13:03:05,248 : INFO : PROGRESS: at 74.03% examples, 279428 words/s, in_qsize 8, out_qsize 0\n",
      "2018-03-05 13:03:06,270 : INFO : PROGRESS: at 74.29% examples, 278888 words/s, in_qsize 8, out_qsize 0\n",
      "2018-03-05 13:03:07,293 : INFO : PROGRESS: at 74.74% examples, 278963 words/s, in_qsize 8, out_qsize 0\n",
      "2018-03-05 13:03:08,317 : INFO : PROGRESS: at 75.17% examples, 279064 words/s, in_qsize 8, out_qsize 0\n",
      "2018-03-05 13:03:09,319 : INFO : PROGRESS: at 75.62% examples, 279164 words/s, in_qsize 7, out_qsize 0\n",
      "2018-03-05 13:03:10,352 : INFO : PROGRESS: at 76.04% examples, 279141 words/s, in_qsize 8, out_qsize 0\n",
      "2018-03-05 13:03:11,362 : INFO : PROGRESS: at 76.48% examples, 279269 words/s, in_qsize 7, out_qsize 0\n",
      "2018-03-05 13:03:12,374 : INFO : PROGRESS: at 76.89% examples, 279285 words/s, in_qsize 8, out_qsize 0\n",
      "2018-03-05 13:03:13,390 : INFO : PROGRESS: at 77.31% examples, 279319 words/s, in_qsize 8, out_qsize 0\n",
      "2018-03-05 13:03:14,389 : INFO : PROGRESS: at 77.74% examples, 279365 words/s, in_qsize 8, out_qsize 0\n",
      "2018-03-05 13:03:15,436 : INFO : PROGRESS: at 78.16% examples, 279377 words/s, in_qsize 7, out_qsize 0\n",
      "2018-03-05 13:03:16,434 : INFO : PROGRESS: at 78.59% examples, 279467 words/s, in_qsize 8, out_qsize 0\n",
      "2018-03-05 13:03:17,435 : INFO : PROGRESS: at 79.03% examples, 279565 words/s, in_qsize 7, out_qsize 0\n",
      "2018-03-05 13:03:18,500 : INFO : PROGRESS: at 79.42% examples, 279431 words/s, in_qsize 7, out_qsize 0\n",
      "2018-03-05 13:03:19,514 : INFO : PROGRESS: at 79.73% examples, 279084 words/s, in_qsize 8, out_qsize 0\n",
      "2018-03-05 13:03:20,524 : INFO : PROGRESS: at 80.16% examples, 279210 words/s, in_qsize 8, out_qsize 0\n",
      "2018-03-05 13:03:21,537 : INFO : PROGRESS: at 80.59% examples, 279291 words/s, in_qsize 8, out_qsize 0\n",
      "2018-03-05 13:03:22,556 : INFO : PROGRESS: at 81.03% examples, 279434 words/s, in_qsize 8, out_qsize 0\n",
      "2018-03-05 13:03:23,568 : INFO : PROGRESS: at 81.49% examples, 279590 words/s, in_qsize 8, out_qsize 0\n",
      "2018-03-05 13:03:24,574 : INFO : PROGRESS: at 81.91% examples, 279682 words/s, in_qsize 8, out_qsize 0\n",
      "2018-03-05 13:03:25,582 : INFO : PROGRESS: at 82.33% examples, 279799 words/s, in_qsize 8, out_qsize 0\n",
      "2018-03-05 13:03:26,595 : INFO : PROGRESS: at 82.77% examples, 279942 words/s, in_qsize 8, out_qsize 0\n",
      "2018-03-05 13:03:27,610 : INFO : PROGRESS: at 83.21% examples, 280018 words/s, in_qsize 8, out_qsize 0\n",
      "2018-03-05 13:03:28,653 : INFO : PROGRESS: at 83.66% examples, 280118 words/s, in_qsize 8, out_qsize 0\n",
      "2018-03-05 13:03:29,665 : INFO : PROGRESS: at 84.07% examples, 280162 words/s, in_qsize 8, out_qsize 0\n",
      "2018-03-05 13:03:30,682 : INFO : PROGRESS: at 84.51% examples, 280232 words/s, in_qsize 8, out_qsize 0\n",
      "2018-03-05 13:03:31,714 : INFO : PROGRESS: at 84.86% examples, 280066 words/s, in_qsize 7, out_qsize 0\n",
      "2018-03-05 13:03:32,719 : INFO : PROGRESS: at 85.17% examples, 279764 words/s, in_qsize 8, out_qsize 0\n",
      "2018-03-05 13:03:33,744 : INFO : PROGRESS: at 85.61% examples, 279883 words/s, in_qsize 8, out_qsize 0\n",
      "2018-03-05 13:03:34,779 : INFO : PROGRESS: at 86.05% examples, 279999 words/s, in_qsize 8, out_qsize 0\n",
      "2018-03-05 13:03:35,790 : INFO : PROGRESS: at 86.49% examples, 280150 words/s, in_qsize 7, out_qsize 0\n",
      "2018-03-05 13:03:36,800 : INFO : PROGRESS: at 86.92% examples, 280245 words/s, in_qsize 8, out_qsize 0\n",
      "2018-03-05 13:03:37,836 : INFO : PROGRESS: at 87.35% examples, 280319 words/s, in_qsize 8, out_qsize 0\n",
      "2018-03-05 13:03:38,848 : INFO : PROGRESS: at 87.79% examples, 280451 words/s, in_qsize 8, out_qsize 0\n",
      "2018-03-05 13:03:39,857 : INFO : PROGRESS: at 88.21% examples, 280527 words/s, in_qsize 8, out_qsize 0\n",
      "2018-03-05 13:03:40,874 : INFO : PROGRESS: at 88.60% examples, 280525 words/s, in_qsize 8, out_qsize 0\n",
      "2018-03-05 13:03:41,892 : INFO : PROGRESS: at 89.01% examples, 280517 words/s, in_qsize 8, out_qsize 0\n",
      "2018-03-05 13:03:42,927 : INFO : PROGRESS: at 89.42% examples, 280552 words/s, in_qsize 8, out_qsize 0\n",
      "2018-03-05 13:03:43,951 : INFO : PROGRESS: at 89.86% examples, 280637 words/s, in_qsize 7, out_qsize 0\n",
      "2018-03-05 13:03:44,963 : INFO : PROGRESS: at 90.14% examples, 280296 words/s, in_qsize 7, out_qsize 0\n",
      "2018-03-05 13:03:45,998 : INFO : PROGRESS: at 90.53% examples, 280243 words/s, in_qsize 7, out_qsize 0\n",
      "2018-03-05 13:03:47,020 : INFO : PROGRESS: at 90.96% examples, 280333 words/s, in_qsize 8, out_qsize 0\n",
      "2018-03-05 13:03:48,031 : INFO : PROGRESS: at 91.40% examples, 280439 words/s, in_qsize 7, out_qsize 0\n",
      "2018-03-05 13:03:49,054 : INFO : PROGRESS: at 91.85% examples, 280551 words/s, in_qsize 8, out_qsize 0\n",
      "2018-03-05 13:03:50,070 : INFO : PROGRESS: at 92.29% examples, 280660 words/s, in_qsize 8, out_qsize 0\n",
      "2018-03-05 13:03:51,060 : INFO : PROGRESS: at 92.71% examples, 280717 words/s, in_qsize 8, out_qsize 1\n",
      "2018-03-05 13:03:52,075 : INFO : PROGRESS: at 93.18% examples, 280838 words/s, in_qsize 7, out_qsize 0\n",
      "2018-03-05 13:03:53,127 : INFO : PROGRESS: at 93.63% examples, 280918 words/s, in_qsize 8, out_qsize 0\n",
      "2018-03-05 13:03:54,169 : INFO : PROGRESS: at 94.08% examples, 281008 words/s, in_qsize 8, out_qsize 0\n",
      "2018-03-05 13:03:55,170 : INFO : PROGRESS: at 94.51% examples, 281086 words/s, in_qsize 8, out_qsize 0\n",
      "2018-03-05 13:03:56,195 : INFO : PROGRESS: at 94.96% examples, 281162 words/s, in_qsize 7, out_qsize 0\n",
      "2018-03-05 13:03:57,214 : INFO : PROGRESS: at 95.40% examples, 281236 words/s, in_qsize 8, out_qsize 0\n",
      "2018-03-05 13:03:58,239 : INFO : PROGRESS: at 95.69% examples, 280805 words/s, in_qsize 7, out_qsize 0\n",
      "2018-03-05 13:03:59,244 : INFO : PROGRESS: at 96.14% examples, 280903 words/s, in_qsize 8, out_qsize 0\n",
      "2018-03-05 13:04:00,261 : INFO : PROGRESS: at 96.56% examples, 280970 words/s, in_qsize 7, out_qsize 1\n",
      "2018-03-05 13:04:01,292 : INFO : PROGRESS: at 97.01% examples, 281068 words/s, in_qsize 7, out_qsize 0\n",
      "2018-03-05 13:04:02,293 : INFO : PROGRESS: at 97.44% examples, 281084 words/s, in_qsize 7, out_qsize 0\n",
      "2018-03-05 13:04:03,307 : INFO : PROGRESS: at 97.88% examples, 281171 words/s, in_qsize 8, out_qsize 1\n",
      "2018-03-05 13:04:04,316 : INFO : PROGRESS: at 98.33% examples, 281263 words/s, in_qsize 8, out_qsize 0\n",
      "2018-03-05 13:04:05,360 : INFO : PROGRESS: at 98.76% examples, 281287 words/s, in_qsize 6, out_qsize 1\n",
      "2018-03-05 13:04:06,376 : INFO : PROGRESS: at 99.22% examples, 281410 words/s, in_qsize 7, out_qsize 0\n",
      "2018-03-05 13:04:07,369 : INFO : PROGRESS: at 99.63% examples, 281449 words/s, in_qsize 8, out_qsize 0\n",
      "2018-03-05 13:04:08,154 : INFO : worker thread finished; awaiting finish of 3 more threads\n"
     ]
    },
    {
     "name": "stderr",
     "output_type": "stream",
     "text": [
      "2018-03-05 13:04:08,173 : INFO : worker thread finished; awaiting finish of 2 more threads\n",
      "2018-03-05 13:04:08,189 : INFO : worker thread finished; awaiting finish of 1 more threads\n",
      "2018-03-05 13:04:08,213 : INFO : worker thread finished; awaiting finish of 0 more threads\n",
      "2018-03-05 13:04:08,215 : INFO : training on 98069505 raw words (70035498 effective words) took 248.8s, 281526 effective words/s\n"
     ]
    }
   ],
   "source": [
    "# Set values for various parameters\n",
    "num_features = 50    # Word vector dimensionality                      \n",
    "min_word_count = 30   # Minimum word count                        \n",
    "num_workers = 4       # Number of threads to run in parallel\n",
    "context = 10          # Context window size                                                                                    \n",
    "downsampling = 1e-3   # Downsample setting for frequent words\n",
    "\n",
    "# Initialize and train the model (this will take some time)\n",
    "from gensim.models import word2vec\n",
    "print \"Training word vector model...\"\n",
    "model = word2vec.Word2Vec(tokenized_sents, workers=num_workers, \\\n",
    "            size=num_features, min_count=min_word_count, \\\n",
    "            window=context, sample=downsampling, sg=1)"
   ]
  },
  {
   "cell_type": "code",
   "execution_count": 45,
   "metadata": {},
   "outputs": [
    {
     "name": "stderr",
     "output_type": "stream",
     "text": [
      "2018-03-05 13:06:29,892 : WARNING : direct access to syn0 will not be supported in future gensim releases, please use model.wv.syn0\n",
      "2018-03-05 13:06:29,897 : INFO : precomputing L2-norms of word weight vectors\n"
     ]
    },
    {
     "name": "stdout",
     "output_type": "stream",
     "text": [
      "The size of the trained word2vec model: (19883, 50)\n",
      "Test finding the word doesn't match others:\n",
      "\n",
      "'kitchen' differs from other words in 'man woman child kitchen'\n",
      "The most similar words to 'man' is\n",
      "[(u'lust', 0.8019440174102783), (u'nun', 0.7826272249221802), (u'connor', 0.782295823097229), (u'awww', 0.7817123532295227), (u'girl', 0.7768422961235046), (u'momma', 0.7670591473579407), (u'boyfriend', 0.7655492424964905), (u'woman', 0.7654544115066528), (u'handsome', 0.7578623294830322), (u'tut', 0.757128119468689)]\n",
      "Similarity between 'man' and 'woman': 0.7654544523439762\n",
      "\n",
      "The most similar words to 'king' is\n",
      "[(u'prince', 0.8799525499343872), (u'crowned', 0.8434494137763977), (u'emperor', 0.830008864402771), (u'henry', 0.8266738057136536), (u'duke', 0.7960581183433533), (u'alexander', 0.7945597767829895), (u'hrh', 0.7912235260009766), (u'throne', 0.7899827361106873), (u'augustus', 0.788614809513092), (u'dukes', 0.7885310649871826)]\n",
      "\n",
      "The most similar words to 'awful' is\n",
      "[(u'boring', 0.8493173122406006), (u'terrible', 0.8133349418640137), (u'funny', 0.7708498239517212), (u'weird', 0.7680312991142273), (u'dull', 0.7530926465988159), (u'crappy', 0.738109827041626), (u'silly', 0.7366042137145996), (u'crazy', 0.7363608479499817), (u'annoying', 0.7344084978103638), (u'hilarious', 0.7330236434936523)]\n",
      "Word embedding of 'computer' is [ 0.597   0.0794 -0.1344 -0.538  -0.6195  0.3818 -0.3349  0.3868 -0.1185  0.1751 -0.4251 -0.2605\n",
      " -0.1961  0.0996  0.825   1.0956 -0.0714 -0.4957 -0.1825 -0.1824 -0.6487 -0.2172 -0.5892  0.4521\n",
      "  0.1629  0.1549 -0.1685  0.416   0.6058 -0.5901 -0.2199 -0.5462  0.1744  0.2876 -0.3697 -0.0125\n",
      "  0.6214  0.155  -0.3137 -0.5349 -0.2394 -0.0112  0.2252  0.6218  0.2673  0.0682  0.0627 -0.3348\n",
      "  0.0367  0.0327]\n"
     ]
    }
   ],
   "source": [
    "# Using the trained model\n",
    "print \"The size of the trained word2vec model:\", model.syn0.shape\n",
    "print \"Test finding the word doesn't match others:\\n\"\n",
    "print \"'%s' differs from other words in 'man woman child kitchen'\" \\\n",
    "\t% (model.doesnt_match(\"man woman child kitchen\".split()))\n",
    "\n",
    "print \"The most similar words to 'man' is\\n\", model.most_similar(\"man\")\n",
    "print \"Similarity between 'man' and 'woman':\", model.similarity('man', 'woman')\n",
    "print \"\\nThe most similar words to 'king' is\\n\", model.most_similar(\"king\")\n",
    "print \"\\nThe most similar words to 'awful' is\\n\", model.most_similar(\"awful\")\n",
    "\n",
    "print \"Word embedding of 'computer' is\", model['computer']"
   ]
  },
  {
   "cell_type": "code",
   "execution_count": 46,
   "metadata": {},
   "outputs": [
    {
     "name": "stdout",
     "output_type": "stream",
     "text": [
      "Creating a index to word mapping...\n"
     ]
    }
   ],
   "source": [
    "print \"Creating a index to word mapping...\"\n",
    "index2word = model.wv.index2word\n",
    "word2index = {w:i for i, w in enumerate(index2word)}"
   ]
  },
  {
   "cell_type": "code",
   "execution_count": 47,
   "metadata": {},
   "outputs": [],
   "source": [
    "num_points = 250\n",
    "embeddings = np.zeros((num_points, num_features), dtype='float32')\n",
    "for i in range(num_points):\n",
    "    embeddings[i] = model[index2word[i]]"
   ]
  },
  {
   "cell_type": "code",
   "execution_count": 48,
   "metadata": {},
   "outputs": [],
   "source": [
    "from sklearn.manifold import TSNE\n",
    "tsne = TSNE(perplexity=30, n_components=2, init='pca', n_iter=5000)\n",
    "two_d_embeddings = tsne.fit_transform(embeddings)"
   ]
  },
  {
   "cell_type": "code",
   "execution_count": 49,
   "metadata": {},
   "outputs": [
    {
     "data": {
      "image/png": "[encoded data removed]",
      "text/plain": [
       "<matplotlib.figure.Figure at 0x124cefe90>"
      ]
     },
     "metadata": {},
     "output_type": "display_data"
    }
   ],
   "source": [
    "from matplotlib import pylab\n",
    "def plot(embeddings, labels):\n",
    "    assert embeddings.shape[0] >= len(labels), 'More labels than embeddings'\n",
    "    pylab.figure(figsize=(15,15))  # in inches\n",
    "    pylab.style.use('ggplot')\n",
    "    for i, label in enumerate(labels):\n",
    "        x, y = embeddings[i,:]\n",
    "        pylab.scatter(x, y)\n",
    "        pylab.annotate(label, xy=(x, y), xytext=(5, 2), textcoords='offset points',\n",
    "                       ha='right', va='bottom')\n",
    "    pylab.show()\n",
    "\n",
    "plot(two_d_embeddings, index2word[:num_points])"
   ]
  },
  {
   "cell_type": "code",
   "execution_count": null,
   "metadata": {},
   "outputs": [],
   "source": []
  }
 ],
 "metadata": {
  "kernelspec": {
   "display_name": "Python 2",
   "language": "python",
   "name": "python2"
  },
  "language_info": {
   "codemirror_mode": {
    "name": "ipython",
    "version": 2
   },
   "file_extension": ".py",
   "mimetype": "text/x-python",
   "name": "python",
   "nbconvert_exporter": "python",
   "pygments_lexer": "ipython2",
   "version": "2.7.13"
  }
 },
 "nbformat": 4,
 "nbformat_minor": 2
}
